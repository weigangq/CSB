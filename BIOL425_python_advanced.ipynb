{
  "cells": [
    {
      "cell_type": "markdown",
      "metadata": {
        "id": "view-in-github",
        "colab_type": "text"
      },
      "source": [
        "<a href=\"https://colab.research.google.com/github/weigangq/CSB-BIOL425/blob/master/BIOL425_python_advanced.ipynb\" target=\"_parent\"><img src=\"https://colab.research.google.com/assets/colab-badge.svg\" alt=\"Open In Colab\"/></a>"
      ]
    },
    {
      "cell_type": "markdown",
      "metadata": {
        "id": "ONlL4-xsBLEP"
      },
      "source": [
        "# Advanced Python Programming\n",
        "\n",
        "This a review of Python based on the textbook (CSB) Chapters 4\n",
        "\n",
        "1.   Download a copy from the github repository: \"git pull\"\n",
        "2.   Upload into colab: File -> Upload Notebook\n",
        "2.   Change filename: Prefix it with your own name\n",
        "1.   Save a copy in your own Google account using the menu: File -> \"Save a copy in Drive\"\n",
        "\n",
        "\n",
        "\n",
        "\n"
      ]
    },
    {
      "cell_type": "markdown",
      "metadata": {
        "id": "pVpplkm1DpbO"
      },
      "source": [
        "## 4.2 Functions and Modules\n"
      ]
    },
    {
      "cell_type": "code",
      "source": [],
      "metadata": {
        "id": "3NniwR2EeHu1"
      },
      "execution_count": null,
      "outputs": []
    },
    {
      "cell_type": "markdown",
      "source": [
        "### Functions\n",
        "\n",
        "1.   A function takes arguments (inputs)\n",
        "2.   A function returns values (outputs)\n",
        "1.   All repetive codes should be turned into functions\n",
        "\n",
        "\n",
        "\n"
      ],
      "metadata": {
        "id": "1FsaUvf2FwpY"
      }
    },
    {
      "cell_type": "code",
      "execution_count": 1,
      "metadata": {
        "id": "rgXMRQw7C7as"
      },
      "outputs": [],
      "source": [
        "# here's our first function\n",
        "def GCcontent(dna):\n",
        "  # our function is called GCcontent and\n",
        "  # accepts a single argument called dna;\n",
        "  # assume that the input is a DNA sequence encoded\n",
        "  # in a string, and make sure it's all uppercase:\n",
        "  dna = dna.upper()\n",
        "  # count the occurrences of each nucleotide\n",
        "  numG = dna.count(\"G\")\n",
        "  numC = dna.count(\"C\")\n",
        "  numA = dna.count(\"A\")\n",
        "  numT = dna.count(\"T\")\n",
        "  # finally, calculate (G + C) / (A + T + G + C)\n",
        "  return round((numG + numC) / (numG + numC + numT + numA),4)"
      ]
    },
    {
      "cell_type": "code",
      "source": [
        "whos # validate that functions are loaded (and available)"
      ],
      "metadata": {
        "id": "GtcyTLBdDEqU",
        "colab": {
          "base_uri": "https://localhost:8080/"
        },
        "outputId": "98595735-9cf4-46af-a63b-8653d2ca7675"
      },
      "execution_count": 3,
      "outputs": [
        {
          "output_type": "stream",
          "name": "stdout",
          "text": [
            "No variables match your requested type.\n"
          ]
        }
      ]
    },
    {
      "cell_type": "code",
      "source": [
        "GCcontent(\"AATTTCCCGGGAAATTTTT\")"
      ],
      "metadata": {
        "id": "4wOuYiStEGSo",
        "colab": {
          "base_uri": "https://localhost:8080/"
        },
        "outputId": "3404fb77-4c4f-4de3-ec78-72e86cf290d3"
      },
      "execution_count": 5,
      "outputs": [
        {
          "output_type": "execute_result",
          "data": {
            "text/plain": [
              "0.3158"
            ]
          },
          "metadata": {},
          "execution_count": 5
        }
      ]
    },
    {
      "cell_type": "markdown",
      "source": [
        "<font color = 'green'>Exercise</font>\n",
        "\n",
        "1.   Change output to %\n",
        "2.   Round to 2 decimal points\n",
        "\n"
      ],
      "metadata": {
        "id": "RT6wCNyW1MTT"
      }
    },
    {
      "cell_type": "code",
      "source": [
        "# print a dictionary\n",
        "# no return values\n",
        "def print_dictionary(mydic):\n",
        "  for k, v in mydic.items():\n",
        "    print(\"key: \", k, \" value: \", str(v))\n",
        "\n",
        "# return a list with results\n",
        "# declare default arguments: if no input is provided,\n",
        "# assume start = 1, end = 10 (as defaults)\n",
        "def squared(start = 1, end = 10):\n",
        "  # create empty list to catch result of each cycle\n",
        "  results = []\n",
        "  for i in range(start, end):\n",
        "    r = i ** 2\n",
        "    # append current value to result list\n",
        "    results.append(r)\n",
        "  return results"
      ],
      "metadata": {
        "id": "ueq-kXjJEQNV"
      },
      "execution_count": 6,
      "outputs": []
    },
    {
      "cell_type": "code",
      "source": [
        "whos"
      ],
      "metadata": {
        "id": "6VH2RAvyEyOn",
        "colab": {
          "base_uri": "https://localhost:8080/"
        },
        "outputId": "cdc203ef-8969-4bba-d3b1-94a1ef58eb21"
      },
      "execution_count": 7,
      "outputs": [
        {
          "output_type": "stream",
          "name": "stdout",
          "text": [
            "Variable           Type        Data/Info\n",
            "----------------------------------------\n",
            "GCcontent          function    <function GCcontent at 0x7f0c8031a160>\n",
            "print_dictionary   function    <function print_dictionary at 0x7f0c8031a700>\n",
            "squared            function    <function squared at 0x7f0c8031a790>\n"
          ]
        }
      ]
    },
    {
      "cell_type": "code",
      "source": [
        "30print_dictionary({\"a\": 3.4, \"b\": [1, 2, 3, 4], \"c\": \"astring\"})"
      ],
      "metadata": {
        "id": "PGwL4u4oE3i_",
        "colab": {
          "base_uri": "https://localhost:8080/"
        },
        "outputId": "c68be336-9662-41a6-a2df-3e85445ad7e2"
      },
      "execution_count": 8,
      "outputs": [
        {
          "output_type": "stream",
          "name": "stdout",
          "text": [
            "key:  a  value:  3.4\n",
            "key:  b  value:  [1, 2, 3, 4]\n",
            "key:  c  value:  astring\n"
          ]
        }
      ]
    },
    {
      "cell_type": "code",
      "source": [
        "squared(start = 3, end = 10) # named arguments"
      ],
      "metadata": {
        "id": "UL2KcfeT2rFM",
        "colab": {
          "base_uri": "https://localhost:8080/"
        },
        "outputId": "da895f6b-b5fd-45d1-f672-59e5d0a45f0f"
      },
      "execution_count": 12,
      "outputs": [
        {
          "output_type": "execute_result",
          "data": {
            "text/plain": [
              "[9, 16, 25, 36, 49, 64, 81]"
            ]
          },
          "metadata": {},
          "execution_count": 12
        }
      ]
    },
    {
      "cell_type": "code",
      "source": [
        "squared(5,10) # unamed arguments, start = 5, and end = 9 (default)"
      ],
      "metadata": {
        "id": "qB_wQjK12xgj",
        "colab": {
          "base_uri": "https://localhost:8080/"
        },
        "outputId": "ff3c9f58-6fa1-4c33-bef4-ec4766d5a765"
      },
      "execution_count": 13,
      "outputs": [
        {
          "output_type": "execute_result",
          "data": {
            "text/plain": [
              "[25, 36, 49, 64, 81]"
            ]
          },
          "metadata": {},
          "execution_count": 13
        }
      ]
    },
    {
      "cell_type": "code",
      "source": [
        "squared(end = 3) # use start=1 default"
      ],
      "metadata": {
        "id": "9Nw0dyCW28Pz",
        "colab": {
          "base_uri": "https://localhost:8080/"
        },
        "outputId": "c5e90123-d325-4319-bb14-513e759c8dfd"
      },
      "execution_count": null,
      "outputs": [
        {
          "output_type": "execute_result",
          "data": {
            "text/plain": [
              "[1, 4]"
            ]
          },
          "metadata": {},
          "execution_count": 15
        }
      ]
    },
    {
      "cell_type": "code",
      "source": [
        "squared() # use defaults as arguments"
      ],
      "metadata": {
        "id": "-A05C4sI3BJR",
        "colab": {
          "base_uri": "https://localhost:8080/"
        },
        "outputId": "f18dd5c1-ade6-43d4-caf9-3c20f467f9f4"
      },
      "execution_count": 9,
      "outputs": [
        {
          "output_type": "execute_result",
          "data": {
            "text/plain": [
              "[1, 4, 9, 16, 25, 36, 49, 64, 81]"
            ]
          },
          "metadata": {},
          "execution_count": 9
        }
      ]
    },
    {
      "cell_type": "markdown",
      "metadata": {
        "id": "0AZDsU2khis3"
      },
      "source": [
        "### <font color='green'>**Intermezzo 4.1** </font>\n",
        "\n",
        "1.   Determine what each function does\n",
        "2.   Call function to validate"
      ]
    },
    {
      "cell_type": "code",
      "source": [
        "# Q1: square root\n",
        "def foo1(x = 7):\n",
        "  return x ** 0.5"
      ],
      "metadata": {
        "id": "YUSgYie_14Hc"
      },
      "execution_count": null,
      "outputs": []
    },
    {
      "cell_type": "code",
      "source": [
        "# Q2\n",
        "def foo2(x = 3, y = 5):\n",
        "  if x > y:\n",
        "    return x\n",
        "  return y"
      ],
      "metadata": {
        "id": "V_14uPM-2HHF"
      },
      "execution_count": null,
      "outputs": []
    },
    {
      "cell_type": "code",
      "source": [
        "# Q3. sort three nubmers\n",
        "def foo3(x = 2, y = 0, z = 9):\n",
        "  if x > y:\n",
        "    tmp = y\n",
        "    y = x\n",
        "    x = tmp\n",
        "  if y > z:\n",
        "    tmp = z\n",
        "    z = y\n",
        "    y = tmp\n",
        "  if x > y:\n",
        "    tmp = y\n",
        "    y = x\n",
        "    x = tmp\n",
        "return [x, y, z]"
      ],
      "metadata": {
        "id": "7jaQ3__P2YlR"
      },
      "execution_count": null,
      "outputs": []
    },
    {
      "cell_type": "code",
      "source": [
        "# Q4. \n",
        "def foo4(x = 6):\n",
        "  result = 1\n",
        "  for i in range(1, x + 1):\n",
        "    result = result * i\n",
        "  return result"
      ],
      "metadata": {
        "id": "JnIRJK712jzI"
      },
      "execution_count": null,
      "outputs": []
    },
    {
      "cell_type": "code",
      "source": [
        "# Q5: print prime factors?\n",
        "def foo5(x = 1729):\n",
        "  d = 2\n",
        "  myfactors = []\n",
        "  while x > 1:\n",
        "    if x % d == 0:\n",
        "      myfactors.append(d)\n",
        "      x = x / d\n",
        "    else:\n",
        "      d = d + 1\n",
        "  return myfactors"
      ],
      "metadata": {
        "id": "BbiwOCFS2zsg"
      },
      "execution_count": null,
      "outputs": []
    },
    {
      "cell_type": "code",
      "source": [
        "# Q6:  factorial\n",
        "# foo6 is a recursive function, meaning that the function calls itself\n",
        "def foo6(x = 25):\n",
        "  if x == 1:\n",
        "    return 1\n",
        "  return x * foo6(x - 1)"
      ],
      "metadata": {
        "id": "WEip-tIUDqm7"
      },
      "execution_count": null,
      "outputs": []
    },
    {
      "cell_type": "code",
      "source": [
        "# Q7\n",
        "def foo7(x = 100):\n",
        "  myp = [2]\n",
        "  for i in range(3, x + 1):\n",
        "    success = False\n",
        "    for j in myp:\n",
        "      if i % j == 0:\n",
        "        success = True\n",
        "        break\n",
        "    if success == False:\n",
        "        myp.append(i)\n",
        "    return myp"
      ],
      "metadata": {
        "id": "Pio60mTuDRMJ"
      },
      "execution_count": null,
      "outputs": []
    },
    {
      "cell_type": "markdown",
      "source": [
        "### Modules & Program Structure\n",
        "1.   Import mymodule # import complete a module (all functions)\n",
        "2.   from module import my_function # import a specific function\n",
        "1.   from mymodule import * # <font color = \"red\"> Don't use!! polute your namesapce</font>\n",
        "1.   Use your own module: save all functions to a Python file (e.g., drift.py) in the same directory/folder, and then call functions with \"import drift\"\n",
        "\n",
        "\n",
        "A Wright-Fisher (genetic drift) Simulator:\n",
        "* Evolution: allele freq changes over time in a population\n",
        "* A constant population with N diploid individuals\n",
        "* Each individual contains two copies of either \"A\" or \"a\" allele\n",
        "* Initial allele frequencies: p for allele A (1-p for allele a)\n",
        "* Random mating: in each generation, two individuals are randomly selected and produce an offspring\n",
        "* No selection (neutral evolution, neither A or a is more advantageous)\n",
        "* No mutation (from \"A\" to \"a\" or \"a\" to \"A\")\n",
        "* Expected result 1. Fixation: eventually all individuals with contain only A or a alleles\n",
        "* Expected result 2. The larger the population size (N), the longer it takes to fixation\n",
        "* Messages: \n",
        "** Allele frequencies change with random mating, even without natural selection\n",
        "** Genetic drift: populations will lose genetic diversity due to genetic drift (very quickly in a small population)\n",
        "\n",
        "\n",
        "\n",
        "\n",
        "\n",
        "\n",
        "\n",
        "\n"
      ],
      "metadata": {
        "id": "qj8x32iOEvPJ"
      }
    },
    {
      "cell_type": "code",
      "source": [
        "import numpy as np\n",
        "rng = np.random.default_rng()\n",
        "print(rng.random(10)) # draw 10 numbers from a uniform distribution\n",
        "print(rng.choice([1,2,3,4,5,6])) # throw a dice\n",
        "print(rng.normal()) #  draw 100 numbers from normal distribution (mean=0, sd=1)\n",
        "print(rng.choice(['H','T'])) # simulate a coin flip\n",
        "for i in range(100): # simulating 100 coin flips\n",
        "  print(rng.choice(['H','T']), end = \",\")\n",
        "#help(rng.normal)"
      ],
      "metadata": {
        "colab": {
          "base_uri": "https://localhost:8080/"
        },
        "id": "OAkHtvjm_3Rf",
        "outputId": "b3fa0bcb-036a-4c28-f496-576d37cf8cc0"
      },
      "execution_count": 28,
      "outputs": [
        {
          "output_type": "stream",
          "name": "stdout",
          "text": [
            "[0.5595179  0.88475552 0.43041721 0.13392054 0.1923582  0.29704939\n",
            " 0.65614402 0.56618788 0.45427698 0.61824249]\n",
            "1\n",
            "-0.19260171148734148\n",
            "H\n",
            "H,H,T,H,H,H,H,T,T,H,H,T,H,H,T,T,H,T,H,T,H,H,H,T,T,T,T,H,H,T,H,T,H,H,H,T,T,T,H,H,H,T,T,T,T,H,T,H,T,H,H,T,H,T,H,H,T,H,H,H,T,H,T,T,T,H,H,T,H,T,H,H,T,T,H,H,T,H,H,T,H,H,T,T,H,H,H,H,T,H,T,T,H,H,T,H,T,T,H,H,"
          ]
        }
      ]
    },
    {
      "cell_type": "code",
      "source": [
        "# generate a random dna sequence\n",
        "import numpy as np\n",
        "rand_dna = []\n",
        "length = 100\n",
        "rng = np.random.default_rng()\n",
        "for i in range(length):\n",
        "  rand_dna.append(rng.choice(['A','C','G','T']))\n",
        "print(''.join(rand_dna))"
      ],
      "metadata": {
        "colab": {
          "base_uri": "https://localhost:8080/"
        },
        "id": "Fr-w7sh8D42f",
        "outputId": "47ddf603-ffab-457f-8715-639fec249fa0"
      },
      "execution_count": 33,
      "outputs": [
        {
          "output_type": "stream",
          "name": "stdout",
          "text": [
            "TATTGTTAAAAGCTGGGGAGGTCTGTGCAACGAAACAGAAACCCCGCAGTGCAGCACCAATCGAACAGTTATCATCCGCAGATAAGCTCCGCACACAGGC\n"
          ]
        }
      ]
    },
    {
      "cell_type": "code",
      "source": [
        "import numpy as np\n",
        "def build_population(N, p):\n",
        "  \"\"\"The population consists of N diploid individuals.\n",
        "  \n",
        "      Each individual has two chromosomes, containing\n",
        "      allele \"A\" or \"a\", with probability p or 1-p,\n",
        "      respectively.\n",
        "\n",
        "      The population is a list of tuples.\n",
        "  \"\"\"\n",
        "  population = []\n",
        "  rng = np.random.default_rng() # instantiate a random number generator\n",
        "  for i in range(N): # for each individual, it could be either of the four possible genotypes: AA, aa, Aa, aA\n",
        "    # set allele 1 as A or a (with prob of p)\n",
        "    allele1 = \"A\"\n",
        "    if rng.random() > p: # draw a random number from 0 to 1, uniformally distributed\n",
        "      allele1 = \"a\"\n",
        "\n",
        "    # set allele 2 as A or a (with prob of p)\n",
        "    allele2 = \"A\"\n",
        "    if rng.random() > p:\n",
        "      allele2 = \"a\"\n",
        "    # a dipolid individual as a tuple\n",
        "    population.append((allele1, allele2))\n",
        "  return population"
      ],
      "metadata": {
        "id": "3at24NsH75_T"
      },
      "execution_count": 34,
      "outputs": []
    },
    {
      "cell_type": "code",
      "source": [
        "build_population(N = 10, p = 0.5)"
      ],
      "metadata": {
        "id": "Xf1n_zBqbNUo",
        "colab": {
          "base_uri": "https://localhost:8080/"
        },
        "outputId": "1770b8e1-9ce1-4ea8-d556-b7e2ee99867a"
      },
      "execution_count": 37,
      "outputs": [
        {
          "output_type": "execute_result",
          "data": {
            "text/plain": [
              "[('a', 'A'),\n",
              " ('A', 'A'),\n",
              " ('A', 'a'),\n",
              " ('A', 'A'),\n",
              " ('a', 'A'),\n",
              " ('a', 'a'),\n",
              " ('a', 'a'),\n",
              " ('a', 'A'),\n",
              " ('a', 'A'),\n",
              " ('A', 'a')]"
            ]
          },
          "metadata": {},
          "execution_count": 37
        }
      ]
    },
    {
      "cell_type": "code",
      "source": [
        "def compute_frequencies(population):\n",
        "  \"\"\" Count the genotypes.\n",
        "      Returns a dictionary of genotypic frequencies.\n",
        "  \"\"\"\n",
        "  # count the tuples (genotypes)\n",
        "  AA = population.count((\"A\", \"A\"))\n",
        "  Aa = population.count((\"A\", \"a\"))\n",
        "  aA = population.count((\"a\", \"A\"))\n",
        "  aa = population.count((\"a\", \"a\"))\n",
        "  # return counts as a dict\n",
        "  return({\"AA\": AA,\n",
        "          \"aa\": aa,\n",
        "          \"Aa\": Aa,\n",
        "          \"aA\": aA})"
      ],
      "metadata": {
        "id": "_a7RhCF4bsYI"
      },
      "execution_count": 38,
      "outputs": []
    },
    {
      "cell_type": "code",
      "source": [
        "my_pop = build_population(20, 0.5) # initialize a pop with N diploid individuals\n",
        "print(my_pop)\n",
        "compute_frequencies(my_pop) # count genotypes"
      ],
      "metadata": {
        "id": "OtACyx_Cc1wj",
        "colab": {
          "base_uri": "https://localhost:8080/"
        },
        "outputId": "f0b9741a-ff76-44f2-d133-caec632c0698"
      },
      "execution_count": 45,
      "outputs": [
        {
          "output_type": "stream",
          "name": "stdout",
          "text": [
            "[('a', 'A'), ('A', 'a'), ('A', 'a'), ('A', 'A'), ('A', 'a'), ('a', 'A'), ('A', 'A'), ('A', 'A'), ('a', 'A'), ('A', 'a'), ('a', 'A'), ('a', 'A'), ('A', 'a'), ('a', 'a'), ('a', 'a'), ('a', 'a'), ('a', 'a'), ('A', 'a'), ('a', 'a'), ('a', 'a')]\n"
          ]
        },
        {
          "output_type": "execute_result",
          "data": {
            "text/plain": [
              "{'AA': 3, 'aa': 6, 'Aa': 6, 'aA': 5}"
            ]
          },
          "metadata": {},
          "execution_count": 45
        }
      ]
    },
    {
      "cell_type": "code",
      "source": [
        "def reproduce_population(population): # simulating random mating\n",
        "  \"\"\" Create new generation through reproduction\n",
        "      For each of N new offspring,\n",
        "      - choose the parents at random;\n",
        "      - the offspring receives a chromosome from\n",
        "        each of the parents.\n",
        "  \"\"\"\n",
        "  new_generation = []\n",
        "  N = len(population)\n",
        "  rng = np.random.default_rng() # initialize a random number generator\n",
        "  for i in range(N):\n",
        "    # random integer between 0 and N-1\n",
        "    dad = rng.integers(N) # pick an individual as dad\n",
        "    mom = rng.integers(N) # pick an individual as mom (could be the same as dad by chance!!)\n",
        "    # which chromosome comes from mom\n",
        "    chr_mom = rng.choice([0,1]) # paternal or maternal copy from mom\n",
        "    chr_dad =rng.choice([0,1]) # pateral or maternal copy from dad\n",
        "    offspring = (population[mom][chr_mom], population[dad][chr_dad])\n",
        "    new_generation.append(offspring)\n",
        "  return(new_generation)"
      ],
      "metadata": {
        "id": "q5xHukmT8EJg"
      },
      "execution_count": 43,
      "outputs": []
    },
    {
      "cell_type": "code",
      "source": [
        "# run a few times to check randomness\n",
        "reproduce_population(my_pop)"
      ],
      "metadata": {
        "id": "v_CJIajce3d8",
        "colab": {
          "base_uri": "https://localhost:8080/"
        },
        "outputId": "0b7152a9-c415-46fe-ae4d-a00e81c9b0a6"
      },
      "execution_count": 46,
      "outputs": [
        {
          "output_type": "execute_result",
          "data": {
            "text/plain": [
              "[('a', 'A'),\n",
              " ('A', 'A'),\n",
              " ('A', 'A'),\n",
              " ('a', 'A'),\n",
              " ('a', 'A'),\n",
              " ('a', 'A'),\n",
              " ('A', 'a'),\n",
              " ('A', 'A'),\n",
              " ('A', 'A'),\n",
              " ('a', 'a'),\n",
              " ('a', 'a'),\n",
              " ('A', 'a'),\n",
              " ('a', 'A'),\n",
              " ('a', 'a'),\n",
              " ('a', 'a'),\n",
              " ('a', 'A'),\n",
              " ('A', 'A'),\n",
              " ('a', 'a'),\n",
              " ('a', 'A'),\n",
              " ('a', 'A')]"
            ]
          },
          "metadata": {},
          "execution_count": 46
        }
      ]
    },
    {
      "cell_type": "code",
      "source": [
        "def simulate_drift(N, p):\n",
        "  # initialize the population\n",
        "  my_pop = build_population(N, p)\n",
        "  fixation = False # a logical variable to mark termination point (when true)\n",
        "  num_generations = 0 # initialize a generation counter\n",
        "  while fixation == False:\n",
        "    # compute genotype counts\n",
        "    genotype_counts = compute_frequencies(my_pop)\n",
        "    # if one allele went to fixation, end\n",
        "    if genotype_counts[\"AA\"] == N or genotype_counts[\"aa\"] == N:\n",
        "      print(\"An allele reached fixation at generation\", num_generations, end = \"\\t\")\n",
        "      print(\"The genotype counts are\", end = \"\\t\")\n",
        "      print(genotype_counts)\n",
        "      fixation == True\n",
        "      break\n",
        "    # if not, reproduce\n",
        "    print(num_generations, genotype_counts) # track simulation\n",
        "    my_pop = reproduce_population(my_pop)\n",
        "    num_generations = num_generations + 1"
      ],
      "metadata": {
        "id": "Gu2p4lATgklr"
      },
      "execution_count": 53,
      "outputs": []
    },
    {
      "cell_type": "code",
      "source": [
        "# try N=100 (large pop)\n",
        "simulate_drift(20, 0.50)"
      ],
      "metadata": {
        "id": "jvQuRzNHhXp8",
        "colab": {
          "base_uri": "https://localhost:8080/"
        },
        "outputId": "90104ef2-412c-4667-f799-f09fa854b57f"
      },
      "execution_count": 62,
      "outputs": [
        {
          "output_type": "stream",
          "name": "stdout",
          "text": [
            "0 {'AA': 6, 'aa': 5, 'Aa': 4, 'aA': 5}\n",
            "1 {'AA': 6, 'aa': 7, 'Aa': 3, 'aA': 4}\n",
            "2 {'AA': 7, 'aa': 5, 'Aa': 3, 'aA': 5}\n",
            "3 {'AA': 6, 'aa': 3, 'Aa': 5, 'aA': 6}\n",
            "4 {'AA': 7, 'aa': 3, 'Aa': 2, 'aA': 8}\n",
            "5 {'AA': 8, 'aa': 2, 'Aa': 3, 'aA': 7}\n",
            "6 {'AA': 9, 'aa': 4, 'Aa': 3, 'aA': 4}\n",
            "7 {'AA': 5, 'aa': 4, 'Aa': 2, 'aA': 9}\n",
            "8 {'AA': 7, 'aa': 3, 'Aa': 3, 'aA': 7}\n",
            "9 {'AA': 7, 'aa': 2, 'Aa': 5, 'aA': 6}\n",
            "10 {'AA': 10, 'aa': 5, 'Aa': 4, 'aA': 1}\n",
            "11 {'AA': 7, 'aa': 3, 'Aa': 7, 'aA': 3}\n",
            "12 {'AA': 5, 'aa': 4, 'Aa': 6, 'aA': 5}\n",
            "13 {'AA': 6, 'aa': 3, 'Aa': 6, 'aA': 5}\n",
            "14 {'AA': 6, 'aa': 5, 'Aa': 4, 'aA': 5}\n",
            "15 {'AA': 8, 'aa': 2, 'Aa': 5, 'aA': 5}\n",
            "16 {'AA': 12, 'aa': 2, 'Aa': 2, 'aA': 4}\n",
            "17 {'AA': 14, 'aa': 2, 'Aa': 2, 'aA': 2}\n",
            "18 {'AA': 10, 'aa': 1, 'Aa': 4, 'aA': 5}\n",
            "19 {'AA': 11, 'aa': 1, 'Aa': 2, 'aA': 6}\n",
            "20 {'AA': 12, 'aa': 2, 'Aa': 4, 'aA': 2}\n",
            "21 {'AA': 14, 'aa': 0, 'Aa': 3, 'aA': 3}\n",
            "22 {'AA': 12, 'aa': 1, 'Aa': 3, 'aA': 4}\n",
            "23 {'AA': 10, 'aa': 1, 'Aa': 2, 'aA': 7}\n",
            "24 {'AA': 11, 'aa': 0, 'Aa': 2, 'aA': 7}\n",
            "25 {'AA': 10, 'aa': 2, 'Aa': 5, 'aA': 3}\n",
            "26 {'AA': 9, 'aa': 2, 'Aa': 5, 'aA': 4}\n",
            "27 {'AA': 5, 'aa': 3, 'Aa': 5, 'aA': 7}\n",
            "28 {'AA': 7, 'aa': 4, 'Aa': 4, 'aA': 5}\n",
            "29 {'AA': 7, 'aa': 2, 'Aa': 5, 'aA': 6}\n",
            "30 {'AA': 9, 'aa': 2, 'Aa': 3, 'aA': 6}\n",
            "31 {'AA': 9, 'aa': 2, 'Aa': 5, 'aA': 4}\n",
            "32 {'AA': 5, 'aa': 2, 'Aa': 7, 'aA': 6}\n",
            "33 {'AA': 8, 'aa': 3, 'Aa': 4, 'aA': 5}\n",
            "34 {'AA': 10, 'aa': 6, 'Aa': 2, 'aA': 2}\n",
            "35 {'AA': 6, 'aa': 2, 'Aa': 3, 'aA': 9}\n",
            "36 {'AA': 6, 'aa': 4, 'Aa': 7, 'aA': 3}\n",
            "37 {'AA': 10, 'aa': 3, 'Aa': 0, 'aA': 7}\n",
            "38 {'AA': 11, 'aa': 1, 'Aa': 3, 'aA': 5}\n",
            "39 {'AA': 9, 'aa': 0, 'Aa': 5, 'aA': 6}\n",
            "40 {'AA': 7, 'aa': 5, 'Aa': 3, 'aA': 5}\n",
            "41 {'AA': 6, 'aa': 4, 'Aa': 7, 'aA': 3}\n",
            "42 {'AA': 7, 'aa': 1, 'Aa': 7, 'aA': 5}\n",
            "43 {'AA': 8, 'aa': 3, 'Aa': 3, 'aA': 6}\n",
            "44 {'AA': 8, 'aa': 4, 'Aa': 4, 'aA': 4}\n",
            "45 {'AA': 5, 'aa': 4, 'Aa': 5, 'aA': 6}\n",
            "46 {'AA': 2, 'aa': 7, 'Aa': 5, 'aA': 6}\n",
            "47 {'AA': 2, 'aa': 7, 'Aa': 6, 'aA': 5}\n",
            "48 {'AA': 1, 'aa': 7, 'Aa': 4, 'aA': 8}\n",
            "49 {'AA': 1, 'aa': 9, 'Aa': 6, 'aA': 4}\n",
            "50 {'AA': 2, 'aa': 10, 'Aa': 4, 'aA': 4}\n",
            "51 {'AA': 2, 'aa': 8, 'Aa': 4, 'aA': 6}\n",
            "52 {'AA': 2, 'aa': 11, 'Aa': 6, 'aA': 1}\n",
            "53 {'AA': 2, 'aa': 10, 'Aa': 5, 'aA': 3}\n",
            "54 {'AA': 1, 'aa': 11, 'Aa': 6, 'aA': 2}\n",
            "55 {'AA': 3, 'aa': 9, 'Aa': 4, 'aA': 4}\n",
            "56 {'AA': 1, 'aa': 7, 'Aa': 3, 'aA': 9}\n",
            "57 {'AA': 1, 'aa': 9, 'Aa': 6, 'aA': 4}\n",
            "58 {'AA': 0, 'aa': 11, 'Aa': 6, 'aA': 3}\n",
            "59 {'AA': 3, 'aa': 10, 'Aa': 2, 'aA': 5}\n",
            "60 {'AA': 0, 'aa': 13, 'Aa': 2, 'aA': 5}\n",
            "61 {'AA': 3, 'aa': 14, 'Aa': 3, 'aA': 0}\n",
            "62 {'AA': 1, 'aa': 9, 'Aa': 4, 'aA': 6}\n",
            "63 {'AA': 4, 'aa': 10, 'Aa': 4, 'aA': 2}\n",
            "64 {'AA': 1, 'aa': 12, 'Aa': 4, 'aA': 3}\n",
            "65 {'AA': 3, 'aa': 8, 'Aa': 5, 'aA': 4}\n",
            "66 {'AA': 3, 'aa': 5, 'Aa': 6, 'aA': 6}\n",
            "67 {'AA': 0, 'aa': 8, 'Aa': 5, 'aA': 7}\n",
            "68 {'AA': 0, 'aa': 12, 'Aa': 4, 'aA': 4}\n",
            "69 {'AA': 1, 'aa': 14, 'Aa': 3, 'aA': 2}\n",
            "70 {'AA': 2, 'aa': 13, 'Aa': 3, 'aA': 2}\n",
            "71 {'AA': 0, 'aa': 11, 'Aa': 5, 'aA': 4}\n",
            "72 {'AA': 1, 'aa': 11, 'Aa': 6, 'aA': 2}\n",
            "73 {'AA': 0, 'aa': 10, 'Aa': 4, 'aA': 6}\n",
            "74 {'AA': 3, 'aa': 11, 'Aa': 3, 'aA': 3}\n",
            "75 {'AA': 0, 'aa': 15, 'Aa': 2, 'aA': 3}\n",
            "76 {'AA': 0, 'aa': 15, 'Aa': 1, 'aA': 4}\n",
            "77 {'AA': 0, 'aa': 14, 'Aa': 2, 'aA': 4}\n",
            "78 {'AA': 1, 'aa': 18, 'Aa': 1, 'aA': 0}\n",
            "79 {'AA': 0, 'aa': 19, 'Aa': 1, 'aA': 0}\n",
            "An allele reached fixation at generation 80\tThe genotype counts are\t{'AA': 0, 'aa': 20, 'Aa': 0, 'aA': 0}\n"
          ]
        }
      ]
    },
    {
      "cell_type": "code",
      "source": [
        "# try N=20 (small pop)\n",
        "simulate_drift(20, 0.5)"
      ],
      "metadata": {
        "id": "hPJOeuL4h3f9",
        "colab": {
          "base_uri": "https://localhost:8080/"
        },
        "outputId": "d2874eed-02f3-4f4a-8784-2697de0618c3"
      },
      "execution_count": 52,
      "outputs": [
        {
          "output_type": "stream",
          "name": "stdout",
          "text": [
            "An allele reached fixation at generation 80\tThe genotype counts are\t{'AA': 20, 'aa': 0, 'Aa': 0, 'aA': 0}\n"
          ]
        }
      ]
    },
    {
      "cell_type": "markdown",
      "source": [
        "## 4.6 Debugging"
      ],
      "metadata": {
        "id": "9CnoRsweqb-b"
      }
    },
    {
      "cell_type": "markdown",
      "source": [
        "### <font color = \"green\">**Intermezzo 4.2**</font>\n",
        "Here is a small program that takes an mRNA sequence, and translates all the codons into the corresponding amino acids. \n",
        "\n",
        "We start at the first nucleotide and consider only one reading frame. The program halts when it encounters a stop codon (UAA, UAG, or UGA). \n",
        "\n",
        "However, there’s a bug in the program! Use the print statement to find the problem, and correct it."
      ],
      "metadata": {
        "id": "7QSbH8uRrfhd"
      }
    },
    {
      "cell_type": "code",
      "source": [
        "import pickle\n",
        "# load dictionary with genetic code from pickle file\n",
        "genetic_code = pickle.load(open(\"../data/genetic_code.pickle\", \"rb\"))\n",
        "# test case: desired amino acid sequence\n",
        "# MEFSL[stop]\n",
        "test_mRNA = \"AUGGAAUUCUCGCUCUGAAGGUAA\"\n",
        "def get_amino_acids(mRNA):\n",
        "  i = 0 # initialize a position counter\n",
        "  aa_sequence = [] # initialize a list for results\n",
        "  while (i + 3) < len(mRNA):\n",
        "    codon = mRNA[i:(i + 3)]\n",
        "    aa = genetic_code[codon]\n",
        "    #print(i, codon, aa)\n",
        "    if aa == \"Stop\":\n",
        "      break\n",
        "    else:\n",
        "      aa_sequence.append(aa)\n",
        "    # advance to the next codon\n",
        "    i = i + 4\n",
        "  return \"\".join(aa_sequence)\n",
        "  print(get_amino_acids(test_mRNA))\n",
        "# problem: the program returns MNLLEV instead of MEFSL!"
      ],
      "metadata": {
        "id": "mLn9El25rvQQ"
      },
      "execution_count": null,
      "outputs": []
    },
    {
      "cell_type": "code",
      "source": [
        "print(genetic_code)\n",
        "#print_dictionary(genetic_code)"
      ],
      "metadata": {
        "id": "32bdHXaPtXEt",
        "colab": {
          "base_uri": "https://localhost:8080/"
        },
        "outputId": "adae5634-e538-4613-887e-6b0027284965"
      },
      "execution_count": null,
      "outputs": [
        {
          "output_type": "stream",
          "name": "stdout",
          "text": [
            "{'UCG': 'S', 'CCG': 'P', 'UGU': 'C', 'GCU': 'A', 'UCA': 'S', 'AAA': 'K', 'CUC': 'L', 'UCU': 'S', 'UGA': 'Stop', 'AAC': 'N', 'CGG': 'R', 'UUU': 'F', 'GAU': 'D', 'UAG': 'Stop', 'CUG': 'L', 'AGG': 'R', 'UAU': 'Y', 'UAA': 'Stop', 'CAC': 'H', 'CAG': 'Q', 'AUG': 'M', 'ACC': 'T', 'GAG': 'E', 'CUU': 'L', 'UAC': 'Y', 'ACG': 'T', 'CAA': 'Q', 'AGU': 'S', 'GUA': 'V', 'CCU': 'P', 'GGC': 'G', 'GUU': 'V', 'CGA': 'R', 'UUA': 'L', 'CAU': 'H', 'AUC': 'I', 'GGA': 'G', 'GAC': 'D', 'GCC': 'A', 'UUG': 'L', 'ACA': 'T', 'AAU': 'N', 'GUG': 'V', 'CGC': 'R', 'UGG': 'W', 'GAA': 'E', 'GGG': 'G', 'ACU': 'T', 'CUA': 'L', 'UUC': 'F', 'UCC': 'S', 'AGC': 'S', 'AGA': 'R', 'GCG': 'A', 'CGU': 'R', 'CCA': 'P', 'CCC': 'P', 'GCA': 'A', 'AUA': 'I', 'GUC': 'V', 'UGC': 'C', 'AUU': 'I', 'AAG': 'K', 'GGU': 'G'}\n"
          ]
        }
      ]
    },
    {
      "cell_type": "markdown",
      "metadata": {
        "id": "SZYIPOTUXv3R"
      },
      "source": [
        "## 4.4 Running from the command line"
      ]
    },
    {
      "cell_type": "markdown",
      "metadata": {
        "id": "m9qPNy5WhitG"
      },
      "source": [
        "### <font color='green'>**Exercise** </font>"
      ]
    },
    {
      "cell_type": "markdown",
      "source": [
        "1.   Start a new notebook, name it \"drift\".\n",
        "1.   Copy the four drift simulation functions into the file\n",
        "1.   Export the notebook: File -> Download -> Download .py (not a notebook)\n",
        "1. Use a text editor, copy and paste the following code & save it as \"wright_fisher_simulator.py\"\n",
        "1. Make it executable: chmod +x wright_fisher_simulator.py\n",
        "1. Make sure to move two python files in the same directory\n",
        "1. Run simulation: ./wright_fisher_simulator.py 100 0.5\n",
        "1. Run the simulator 10 times with a BASH \"for\" loop\n",
        "\n",
        "\n",
        "\n",
        "\n",
        "\n",
        "\n",
        "\n"
      ],
      "metadata": {
        "id": "KEr0khIVvuzI"
      }
    },
    {
      "cell_type": "markdown",
      "source": [],
      "metadata": {
        "id": "Lpb6M8EPKZ7_"
      }
    },
    {
      "cell_type": "code",
      "source": [
        "#!/usr/bin/env python\n",
        "# This is a wrapper script, taking inputs from the command line\n",
        "# It calls the simulator function, which in turn calls the other functions\n",
        "\n",
        "# All simulation functions are consolidated in a single file \"drift.py\"\n",
        "\n",
        "# Simulate genetic drift\n",
        "# with Wright-Fisher model of neutrality, random mating,\n",
        "#   constant pop, and non-overlapping generations\n",
        "import sys\n",
        "import drift # assume that drift.py is in the same directory\n",
        "\n",
        "if __name__ == \"__main__\":\n",
        "  # read the arguments on the command line\n",
        "  # and convert to the right type\n",
        "  # (they are strings by default)\n",
        "  N = int(sys.argv[1])\n",
        "  p = float(sys.argv[2])\n",
        "  # call the simulation\n",
        "  drift.simulate_drift(N, p)\n",
        "\n",
        "sys.exit()"
      ],
      "metadata": {
        "id": "hmIiHz6pcoKb"
      },
      "execution_count": null,
      "outputs": []
    }
  ],
  "metadata": {
    "colab": {
      "provenance": [],
      "toc_visible": true,
      "include_colab_link": true
    },
    "kernelspec": {
      "display_name": "Python 3",
      "name": "python3"
    },
    "language_info": {
      "codemirror_mode": {
        "name": "ipython",
        "version": 3
      },
      "file_extension": ".py",
      "mimetype": "text/x-python",
      "name": "python",
      "nbconvert_exporter": "python",
      "pygments_lexer": "ipython3",
      "version": "3.9.7"
    },
    "gpuClass": "standard"
  },
  "nbformat": 4,
  "nbformat_minor": 0
}