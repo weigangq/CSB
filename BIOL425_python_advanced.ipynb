{
  "cells": [
    {
      "cell_type": "markdown",
      "metadata": {
        "id": "view-in-github",
        "colab_type": "text"
      },
      "source": [
        "<a href=\"https://colab.research.google.com/github/weigangq/CSB-BIOL425/blob/master/BIOL425_python_advanced.ipynb\" target=\"_parent\"><img src=\"https://colab.research.google.com/assets/colab-badge.svg\" alt=\"Open In Colab\"/></a>"
      ]
    },
    {
      "cell_type": "markdown",
      "metadata": {
        "id": "ONlL4-xsBLEP"
      },
      "source": [
        "# Advanced Python Programming\n",
        "\n",
        "This a review of Python based on the textbook (CSB) Chapters 4\n",
        "\n",
        "1.   Upload into colab: File -> Upload Notebook (from local or from github)\n",
        "2.   Change filename: Prefix it with your own name\n",
        "3.   Save a copy in your own Google account using the menu: File -> \"Save a copy in Drive\"\n",
        "\n",
        "\n",
        "\n"
      ]
    },
    {
      "cell_type": "markdown",
      "metadata": {
        "id": "pVpplkm1DpbO"
      },
      "source": [
        "## 4.2 Functions and Modules\n"
      ]
    },
    {
      "cell_type": "markdown",
      "source": [
        "### Functions\n",
        "\n",
        "1.   A function takes arguments (inputs)\n",
        "2.   A function returns values (outputs)\n",
        "1.   All repetive codes should be turned into functions\n",
        "\n",
        "\n",
        "\n"
      ],
      "metadata": {
        "id": "1FsaUvf2FwpY"
      }
    },
    {
      "cell_type": "code",
      "execution_count": 3,
      "metadata": {
        "id": "rgXMRQw7C7as"
      },
      "outputs": [],
      "source": [
        "# here's our first function\n",
        "def GCcontent(dna):\n",
        "  # our function is called GCcontent and\n",
        "  # accepts a single argument called dna;\n",
        "  # assume that the input is a DNA sequence encoded\n",
        "  # in a string, and make sure it's all uppercase:\n",
        "  dna = dna.upper()\n",
        "  # count the occurrences of each nucleotide\n",
        "  numG = dna.count(\"G\")\n",
        "  numC = dna.count(\"C\")\n",
        "  numA = dna.count(\"A\")\n",
        "  numT = dna.count(\"T\")\n",
        "  # finally, calculate (G + C) / (A + T + G + C)\n",
        "  return (numG + numC) / (numG + numC + numT + numA)"
      ]
    },
    {
      "cell_type": "code",
      "source": [
        "GCcontent(\"AATTTCCCGGGAAATTTTT\")"
      ],
      "metadata": {
        "id": "4wOuYiStEGSo",
        "colab": {
          "base_uri": "https://localhost:8080/"
        },
        "outputId": "07092875-829c-44b6-d087-16bb00613319"
      },
      "execution_count": 4,
      "outputs": [
        {
          "output_type": "execute_result",
          "data": {
            "text/plain": [
              "0.3157894736842105"
            ]
          },
          "metadata": {},
          "execution_count": 4
        }
      ]
    },
    {
      "cell_type": "markdown",
      "source": [
        "<font color = 'green'>Exercise</font>\n",
        "\n",
        "1.   Change output to %\n",
        "2.   Round to 2 decimal points\n",
        "\n"
      ],
      "metadata": {
        "id": "RT6wCNyW1MTT"
      }
    },
    {
      "cell_type": "code",
      "source": [
        "# print a dictionary\n",
        "# no return values\n",
        "def print_dictionary(mydic):\n",
        "  for k, v in mydic.items():\n",
        "    print(\"key: \", k, \" value: \", str(v))\n",
        "\n",
        "# return a list with results\n",
        "# declare default arguments: if no input is provided,\n",
        "# assume start = 1, end = 10 (as defaults)\n",
        "def squared(start = 1, end = 10):\n",
        "  # create empty list to catch result of each cycle\n",
        "  results = []\n",
        "  for i in range(start, end):\n",
        "    r = i ** 2\n",
        "    # append current value to result list\n",
        "    results.append(r)\n",
        "  return results"
      ],
      "metadata": {
        "id": "ueq-kXjJEQNV"
      },
      "execution_count": 81,
      "outputs": []
    },
    {
      "cell_type": "code",
      "source": [
        "print_dictionary({\"a\": 3.4, \"b\": [1, 2, 3, 4], \"c\": \"astring\"})"
      ],
      "metadata": {
        "id": "PGwL4u4oE3i_",
        "colab": {
          "base_uri": "https://localhost:8080/"
        },
        "outputId": "ad2cee46-2a38-4f7a-8a3a-1045a600346c"
      },
      "execution_count": 85,
      "outputs": [
        {
          "output_type": "stream",
          "name": "stdout",
          "text": [
            "key:  a  value:  3.4\n",
            "key:  b  value:  [1, 2, 3, 4]\n",
            "key:  c  value:  astring\n"
          ]
        }
      ]
    },
    {
      "cell_type": "code",
      "source": [
        "squared(start = 3, end = 10) # named arguments"
      ],
      "metadata": {
        "id": "UL2KcfeT2rFM",
        "colab": {
          "base_uri": "https://localhost:8080/"
        },
        "outputId": "fbb79d0a-fa6d-4a67-fc93-6c8672e7cced"
      },
      "execution_count": 86,
      "outputs": [
        {
          "output_type": "execute_result",
          "data": {
            "text/plain": [
              "[9, 16, 25, 36, 49, 64, 81]"
            ]
          },
          "metadata": {},
          "execution_count": 86
        }
      ]
    },
    {
      "cell_type": "code",
      "source": [
        "squared(5,10) # unamed arguments, start = 5, and end = 9 (default)"
      ],
      "metadata": {
        "id": "qB_wQjK12xgj",
        "colab": {
          "base_uri": "https://localhost:8080/"
        },
        "outputId": "555e3f1f-d6ba-400a-f2f1-fb7aa7b68e43"
      },
      "execution_count": 87,
      "outputs": [
        {
          "output_type": "execute_result",
          "data": {
            "text/plain": [
              "[25, 36, 49, 64, 81]"
            ]
          },
          "metadata": {},
          "execution_count": 87
        }
      ]
    },
    {
      "cell_type": "code",
      "source": [
        "squared(end = 3) # use start=1 default"
      ],
      "metadata": {
        "id": "9Nw0dyCW28Pz",
        "colab": {
          "base_uri": "https://localhost:8080/"
        },
        "outputId": "3477d70f-7510-403a-c6ef-e315aad8d4d4"
      },
      "execution_count": 88,
      "outputs": [
        {
          "output_type": "execute_result",
          "data": {
            "text/plain": [
              "[1, 4]"
            ]
          },
          "metadata": {},
          "execution_count": 88
        }
      ]
    },
    {
      "cell_type": "code",
      "source": [
        "squared() # use defaults as arguments"
      ],
      "metadata": {
        "id": "-A05C4sI3BJR",
        "colab": {
          "base_uri": "https://localhost:8080/"
        },
        "outputId": "b979ef8b-0ccd-4171-9d17-81232e4dc545"
      },
      "execution_count": 89,
      "outputs": [
        {
          "output_type": "execute_result",
          "data": {
            "text/plain": [
              "[1, 4, 9, 16, 25, 36, 49, 64, 81]"
            ]
          },
          "metadata": {},
          "execution_count": 89
        }
      ]
    },
    {
      "cell_type": "markdown",
      "metadata": {
        "id": "0AZDsU2khis3"
      },
      "source": [
        "### <font color='green'>**Intermezzo 4.1** </font>\n",
        "\n",
        "1.   Determine what each function does\n",
        "2.   Call function to validate"
      ]
    },
    {
      "cell_type": "code",
      "source": [
        "# Q1: square root a number\n",
        "def foo1(x = 7):\n",
        "  return x ** 0.5"
      ],
      "metadata": {
        "id": "YUSgYie_14Hc"
      },
      "execution_count": 90,
      "outputs": []
    },
    {
      "cell_type": "code",
      "source": [
        "# Q2: return the smaller (or equal) number of the two\n",
        "def foo2(x = 3, y = 5):\n",
        "  if x > y:\n",
        "    return x\n",
        "  return y"
      ],
      "metadata": {
        "id": "V_14uPM-2HHF"
      },
      "execution_count": null,
      "outputs": []
    },
    {
      "cell_type": "code",
      "source": [
        "# Q3. sort three nubmers\n",
        "def foo3(x = 2, y = 0, z = 9):\n",
        "  if x > y:\n",
        "    tmp = y\n",
        "    y = x\n",
        "    x = tmp\n",
        "  if y > z:\n",
        "    tmp = z\n",
        "    z = y\n",
        "    y = tmp\n",
        "  if x > y:\n",
        "    tmp = y\n",
        "    y = x\n",
        "    x = tmp\n",
        "  return [x, y, z]"
      ],
      "metadata": {
        "id": "7jaQ3__P2YlR"
      },
      "execution_count": 92,
      "outputs": []
    },
    {
      "cell_type": "code",
      "source": [
        "# Q4. factorial, multiply up (non-recursive)\n",
        "def foo4(x = 6):\n",
        "  result = 1\n",
        "  for i in range(1, x + 1):\n",
        "    result = result * i\n",
        "    print(i, result)\n",
        "  return result"
      ],
      "metadata": {
        "id": "JnIRJK712jzI"
      },
      "execution_count": 104,
      "outputs": []
    },
    {
      "cell_type": "code",
      "source": [
        "foo4()"
      ],
      "metadata": {
        "colab": {
          "base_uri": "https://localhost:8080/"
        },
        "id": "CqrZWm89m1sK",
        "outputId": "d2a6c25b-b05c-4e3d-83ce-39c58b91d82a"
      },
      "execution_count": 105,
      "outputs": [
        {
          "output_type": "stream",
          "name": "stdout",
          "text": [
            "1 1\n",
            "2 2\n",
            "3 6\n",
            "4 24\n",
            "5 120\n",
            "6 720\n"
          ]
        },
        {
          "output_type": "execute_result",
          "data": {
            "text/plain": [
              "720"
            ]
          },
          "metadata": {},
          "execution_count": 105
        }
      ]
    },
    {
      "cell_type": "code",
      "source": [
        "# Q5: find all prime factors (or itself if it is a primer number)\n",
        "def foo5(x = 1729):\n",
        "  d = 2\n",
        "  myfactors = []\n",
        "  while x > 1:\n",
        "    if x % d == 0:\n",
        "      myfactors.append(d)\n",
        "      x = x / d\n",
        "    else:\n",
        "      d = d + 1\n",
        "  return myfactors"
      ],
      "metadata": {
        "id": "BbiwOCFS2zsg"
      },
      "execution_count": 108,
      "outputs": []
    },
    {
      "cell_type": "code",
      "source": [
        "foo5()"
      ],
      "metadata": {
        "colab": {
          "base_uri": "https://localhost:8080/"
        },
        "id": "nKAM87eIm3fh",
        "outputId": "6b5790af-a7c9-4a21-9517-8982c45e6d4c"
      },
      "execution_count": 96,
      "outputs": [
        {
          "output_type": "execute_result",
          "data": {
            "text/plain": [
              "[7, 13, 19]"
            ]
          },
          "metadata": {},
          "execution_count": 96
        }
      ]
    },
    {
      "cell_type": "code",
      "source": [
        "foo5(17)"
      ],
      "metadata": {
        "colab": {
          "base_uri": "https://localhost:8080/"
        },
        "id": "xVNAJTtmmaba",
        "outputId": "e50da6ba-d8c5-4b70-cfe8-afd629fe4d2a"
      },
      "execution_count": 95,
      "outputs": [
        {
          "output_type": "execute_result",
          "data": {
            "text/plain": [
              "[17]"
            ]
          },
          "metadata": {},
          "execution_count": 95
        }
      ]
    },
    {
      "cell_type": "code",
      "source": [
        "# Q6:  factorial, recursive & multiple down\n",
        "# foo6 is a recursive function, meaning that the function calls itself (until a termination condition)\n",
        "def foo6(x = 25):\n",
        "  if x == 1:\n",
        "    return 1\n",
        "  return x * foo6(x - 1)"
      ],
      "metadata": {
        "id": "WEip-tIUDqm7"
      },
      "execution_count": 107,
      "outputs": []
    },
    {
      "cell_type": "code",
      "source": [
        "# Q7: find all prime numbers up to a number\n",
        "def foo7(x = 100):\n",
        "  myp = [2] # keep a list of prime numbers\n",
        "  for i in range(3, x + 1):\n",
        "    success = False\n",
        "    for j in myp:\n",
        "      # print(i, j)\n",
        "      if i % j == 0: # if divisible by a prime, it's not a prime. Skip\n",
        "        success = True\n",
        "        break    \n",
        "    if success == False: # find a prime\n",
        "        myp.append(i)\n",
        "  return myp"
      ],
      "metadata": {
        "id": "Pio60mTuDRMJ"
      },
      "execution_count": 5,
      "outputs": []
    },
    {
      "cell_type": "code",
      "source": [
        "print(foo7())"
      ],
      "metadata": {
        "colab": {
          "base_uri": "https://localhost:8080/"
        },
        "id": "oCLmE0AtpKe6",
        "outputId": "b89c3ebc-0ee9-4f57-8e4c-67109db30a4c"
      },
      "execution_count": 151,
      "outputs": [
        {
          "output_type": "stream",
          "name": "stdout",
          "text": [
            "[2, 3, 5, 7, 11, 13, 17, 19, 23, 29, 31, 37, 41, 43, 47, 53, 59, 61, 67, 71, 73, 79, 83, 89, 97]\n"
          ]
        }
      ]
    },
    {
      "cell_type": "markdown",
      "source": [
        "### Modules & Program Structure\n",
        "1.   Import mymodule # import complete a module (all functions)\n",
        "2.   from module import my_function # import a specific function\n",
        "1.   from mymodule import * # <font color = \"yellow\"> Don't use!! IT will polute your namesapce (with e.g., conflicting variable names)</font>\n",
        "1.   Use your own module: save all functions to a Python file (e.g., drift.py) in the same directory/folder, and then call functions with \"import drift\"\n",
        "\n",
        "\n",
        "A Wright-Fisher (genetic drift) Simulator:\n",
        "* Evolution: defined as \"allele freq changes over time in a population\"\n",
        "* A constant population with N diploid individuals\n",
        "* Each individual contains two copies of either \"A\" or \"a\" allele\n",
        "* Initial allele frequencies: p for allele A (1-p for allele a)\n",
        "* Random mating: in each generation, two individuals are randomly selected and produce an offspring\n",
        "* No selection (neutral evolution, neither A or a is more advantageous)\n",
        "* No mutation (from \"A\" to \"a\" or \"a\" to \"A\")\n",
        "* Expected result 1. Fixation: eventually all individuals with contain only A or a alleles\n",
        "* Expected result 2. The larger the population size (N), the longer it takes to fixation\n",
        "* Messages: \n",
        "** Allele frequencies change with random mating, even without natural selection\n",
        "** Genetic drift: populations will lose genetic diversity due to genetic drift (very quickly in a small population)\n",
        "\n",
        "\n",
        "\n",
        "\n",
        "\n",
        "\n",
        "\n",
        "\n"
      ],
      "metadata": {
        "id": "qj8x32iOEvPJ"
      }
    },
    {
      "cell_type": "code",
      "source": [
        "# a demo of drawing random numbers (from a variety of distributions)\n",
        "import numpy as np\n",
        "rng = np.random.default_rng()\n",
        "\n",
        "# draw 10 numbers from a uniform distribution\n",
        "print(rng.random(10))\n",
        "\n",
        "# simulate a dice throw\n",
        "print(rng.choice([1,2,3,4,5,6])) \n",
        "\n",
        "#  draw 100 numbers from normal distribution (mean=0, sd=1)\n",
        "print(rng.normal(size = 100)) \n",
        "\n",
        "# simulate a coin flip\n",
        "print(rng.choice(['H','T']))\n",
        "\n",
        "# flip a coin 10 times\n",
        "for i in range(10): \n",
        "  print(rng.choice(['H','T']), end = \",\")"
      ],
      "metadata": {
        "colab": {
          "base_uri": "https://localhost:8080/"
        },
        "id": "OAkHtvjm_3Rf",
        "outputId": "572880a5-4d1f-4c03-f48a-6f0764a2def9"
      },
      "execution_count": 141,
      "outputs": [
        {
          "output_type": "stream",
          "name": "stdout",
          "text": [
            "[0.48296088 0.67387386 0.94708475 0.54668981 0.0634257  0.97140382\n",
            " 0.50599801 0.65445411 0.12341578 0.44882916]\n",
            "1\n",
            "[ 1.31052313  0.14697889 -0.30857388  1.49544751  0.687211   -0.57068704\n",
            "  0.79470476 -1.6574605  -1.02651822  0.32403014 -0.24169136  0.05707554\n",
            "  1.40153375  0.2498345  -1.57291782  0.69653807 -0.83131955 -0.36246709\n",
            " -2.30874654 -0.76721807 -0.36080883 -1.19393195 -0.88161885 -0.90585027\n",
            "  1.66020513  0.67177388 -1.64237173  0.02241436  0.2286875  -1.26101369\n",
            " -1.87409814 -1.33251964 -0.89567732 -0.40644333 -0.10034257 -0.17931576\n",
            " -1.27114981  0.64500824 -0.50553015 -1.15849497 -0.97310913 -0.76035624\n",
            " -0.32412701  0.7997166  -0.03779567  1.04681266  0.42585251 -0.13991578\n",
            "  0.94447724  1.02782877  0.86741263  0.02435678 -0.16261372  1.16053264\n",
            "  0.39200274 -0.74929989  0.27451112  0.45513628  0.30959549  1.61822629\n",
            " -0.84889367  0.96751785 -0.55019529  1.02855565  0.43801743  0.29362425\n",
            " -0.15874387  1.03965366  1.17613624  0.09852198 -0.95189139 -0.12578356\n",
            " -0.33626794 -1.29485721 -1.43687972  1.28286534  1.16746319  2.0073073\n",
            "  1.04608433  0.317717    0.56918524  0.31031472  0.16305849 -1.61636491\n",
            "  0.72668166 -1.19198318 -0.95335461 -0.06611586  0.7427801  -0.88613604\n",
            "  1.12101576  0.75324686  1.89039404  0.31820296  1.61089323  0.58499642\n",
            " -1.0151021   0.14275568 -0.31068727 -0.61779156]\n",
            "T\n",
            "H,T,H,H,T,H,T,H,T,H,"
          ]
        }
      ]
    },
    {
      "cell_type": "code",
      "source": [
        "# generate a random dna sequence\n",
        "#  with default of 10 bases\n",
        "def rand_dna(dan_len = 10):\n",
        "  import numpy as np\n",
        "  rand_seq = []\n",
        "  rng = np.random.default_rng()\n",
        "  for i in range(dan_len):\n",
        "    rand_seq.append(rng.choice(['A','C','G','T']))\n",
        "  print(''.join(rand_seq))"
      ],
      "metadata": {
        "id": "Fr-w7sh8D42f"
      },
      "execution_count": 131,
      "outputs": []
    },
    {
      "cell_type": "code",
      "source": [
        "rand_dna(100)"
      ],
      "metadata": {
        "colab": {
          "base_uri": "https://localhost:8080/"
        },
        "id": "jTkwcVmxXiAL",
        "outputId": "78c21d7c-100f-4937-a29a-a34fc8fbc281"
      },
      "execution_count": 132,
      "outputs": [
        {
          "output_type": "stream",
          "name": "stdout",
          "text": [
            "CTCCAACATGAGCCAACCAGCCAGAGCTAACCTTGCGGAATACGTTTATCTCTTGCACGACATGGTCTGATATCATTGTTCCTTAAGGAGCCTGTATTAA\n"
          ]
        }
      ]
    },
    {
      "cell_type": "code",
      "source": [
        "import numpy as np\n",
        "def build_population(N, p):\n",
        "  \"\"\"The population consists of N diploid individuals.\n",
        "  \n",
        "      Each individual has two chromosomes, containing\n",
        "      allele \"A\" or \"a\", with probability p or 1-p,\n",
        "      respectively.\n",
        "\n",
        "      The population is a list of tuples.\n",
        "  \"\"\"\n",
        "  population = []\n",
        "  rng = np.random.default_rng() # instantiate a random number generator\n",
        "  for i in range(N): # for each individual, it could be either of the four possible genotypes: AA, aa, Aa, aA\n",
        "    # set allele 1 as A or a (with prob of p)\n",
        "    allele1 = \"A\"\n",
        "    if rng.random() > p: # draw a random number from 0 to 1, uniformally distributed\n",
        "      allele1 = \"a\"\n",
        "\n",
        "    # set allele 2 as A or a (with prob of p)\n",
        "    allele2 = \"A\"\n",
        "    if rng.random() > p:\n",
        "      allele2 = \"a\"\n",
        "    # a dipolid individual as a tuple\n",
        "    population.append((allele1, allele2))\n",
        "  return population"
      ],
      "metadata": {
        "id": "3at24NsH75_T"
      },
      "execution_count": 6,
      "outputs": []
    },
    {
      "cell_type": "code",
      "source": [
        "build_population(N = 10, p = 0.5)"
      ],
      "metadata": {
        "id": "Xf1n_zBqbNUo",
        "colab": {
          "base_uri": "https://localhost:8080/"
        },
        "outputId": "87a08484-97f3-4901-d7b4-d37956af03d7"
      },
      "execution_count": 7,
      "outputs": [
        {
          "output_type": "execute_result",
          "data": {
            "text/plain": [
              "[('A', 'a'),\n",
              " ('a', 'A'),\n",
              " ('A', 'A'),\n",
              " ('a', 'A'),\n",
              " ('A', 'a'),\n",
              " ('A', 'A'),\n",
              " ('a', 'a'),\n",
              " ('A', 'a'),\n",
              " ('a', 'A'),\n",
              " ('A', 'A')]"
            ]
          },
          "metadata": {},
          "execution_count": 7
        }
      ]
    },
    {
      "cell_type": "code",
      "source": [
        "def compute_frequencies(population):\n",
        "  \"\"\" Count the genotypes.\n",
        "      Returns a dictionary of genotypic frequencies.\n",
        "  \"\"\"\n",
        "  # count the tuples (genotypes)\n",
        "  AA = population.count((\"A\", \"A\"))\n",
        "  Aa = population.count((\"A\", \"a\"))\n",
        "  aA = population.count((\"a\", \"A\"))\n",
        "  aa = population.count((\"a\", \"a\"))\n",
        "  # return counts as a dict\n",
        "  return({\"AA\": AA,\n",
        "          \"aa\": aa,\n",
        "          \"Aa\": Aa,\n",
        "          \"aA\": aA})"
      ],
      "metadata": {
        "id": "_a7RhCF4bsYI"
      },
      "execution_count": 8,
      "outputs": []
    },
    {
      "cell_type": "code",
      "source": [
        "my_pop = build_population(20, 0.5) # initialize a pop with N diploid individuals\n",
        "print(my_pop)\n",
        "compute_frequencies(my_pop) # count genotypes"
      ],
      "metadata": {
        "id": "OtACyx_Cc1wj",
        "colab": {
          "base_uri": "https://localhost:8080/"
        },
        "outputId": "bea94fce-5d9a-4e87-d445-8c7e5a27c024"
      },
      "execution_count": 9,
      "outputs": [
        {
          "output_type": "stream",
          "name": "stdout",
          "text": [
            "[('a', 'A'), ('A', 'a'), ('a', 'A'), ('a', 'a'), ('A', 'a'), ('A', 'A'), ('A', 'A'), ('a', 'A'), ('a', 'A'), ('a', 'a'), ('a', 'A'), ('a', 'A'), ('A', 'A'), ('a', 'A'), ('a', 'a'), ('a', 'A'), ('A', 'A'), ('A', 'a'), ('a', 'a'), ('A', 'a')]\n"
          ]
        },
        {
          "output_type": "execute_result",
          "data": {
            "text/plain": [
              "{'AA': 4, 'aa': 4, 'Aa': 4, 'aA': 8}"
            ]
          },
          "metadata": {},
          "execution_count": 9
        }
      ]
    },
    {
      "cell_type": "code",
      "source": [
        "def reproduce_population(population): # simulating random mating\n",
        "  \"\"\" Create new generation through reproduction\n",
        "      For each of N new offspring,\n",
        "      - choose the parents at random;\n",
        "      - the offspring receives a chromosome from\n",
        "        each of the parents.\n",
        "  \"\"\"\n",
        "  new_generation = []\n",
        "  N = len(population)\n",
        "  rng = np.random.default_rng() # initialize a random number generator\n",
        "  for i in range(N):\n",
        "    # random integer between 0 and N-1\n",
        "    dad = rng.integers(N) # pick an individual as dad\n",
        "    mom = rng.integers(N) # pick an individual as mom (could be the same as dad by chance!!)\n",
        "    # which chromosome comes from mom\n",
        "    chr_mom = rng.choice([0,1]) # paternal or maternal copy from mom\n",
        "    chr_dad =rng.choice([0,1]) # pateral or maternal copy from dad\n",
        "    offspring = (population[mom][chr_mom], population[dad][chr_dad])\n",
        "    new_generation.append(offspring)\n",
        "  return(new_generation)"
      ],
      "metadata": {
        "id": "q5xHukmT8EJg"
      },
      "execution_count": 10,
      "outputs": []
    },
    {
      "cell_type": "code",
      "source": [
        "# run a few times to check randomness\n",
        "reproduce_population(my_pop)"
      ],
      "metadata": {
        "id": "v_CJIajce3d8",
        "colab": {
          "base_uri": "https://localhost:8080/"
        },
        "outputId": "2478a96d-e016-4535-e791-b3d7d258a9ae"
      },
      "execution_count": 11,
      "outputs": [
        {
          "output_type": "execute_result",
          "data": {
            "text/plain": [
              "[('a', 'a'),\n",
              " ('a', 'a'),\n",
              " ('A', 'a'),\n",
              " ('a', 'A'),\n",
              " ('A', 'A'),\n",
              " ('a', 'A'),\n",
              " ('A', 'a'),\n",
              " ('a', 'A'),\n",
              " ('A', 'A'),\n",
              " ('A', 'a'),\n",
              " ('A', 'A'),\n",
              " ('a', 'a'),\n",
              " ('A', 'a'),\n",
              " ('a', 'A'),\n",
              " ('A', 'A'),\n",
              " ('A', 'A'),\n",
              " ('A', 'A'),\n",
              " ('A', 'A'),\n",
              " ('a', 'a'),\n",
              " ('a', 'A')]"
            ]
          },
          "metadata": {},
          "execution_count": 11
        }
      ]
    },
    {
      "cell_type": "code",
      "source": [
        "def simulate_drift(N, p):\n",
        "  # initialize the population\n",
        "  my_pop = build_population(N, p)\n",
        "  fixation = False # a logical variable to mark termination point (when true)\n",
        "  num_generations = 0 # initialize a generation counter\n",
        "  while fixation == False:\n",
        "    # compute genotype counts\n",
        "    genotype_counts = compute_frequencies(my_pop)\n",
        "    # if one allele went to fixation, end\n",
        "    if genotype_counts[\"AA\"] == N or genotype_counts[\"aa\"] == N:\n",
        "      print(\"An allele reached fixation at generation\", num_generations, end = \"\\t\")\n",
        "      print(\"The genotype counts are\", end = \"\\t\")\n",
        "      print(genotype_counts)\n",
        "      fixation == True\n",
        "      break\n",
        "    # if not, reproduce\n",
        "    #print(num_generations, genotype_counts['AA']) # track genotype counts at each generation\n",
        "    my_pop = reproduce_population(my_pop)\n",
        "    num_generations = num_generations + 1"
      ],
      "metadata": {
        "id": "Gu2p4lATgklr"
      },
      "execution_count": 22,
      "outputs": []
    },
    {
      "cell_type": "code",
      "source": [
        "# try N=100 (large pop)\n",
        "simulate_drift(100, 0.50)"
      ],
      "metadata": {
        "id": "jvQuRzNHhXp8",
        "colab": {
          "base_uri": "https://localhost:8080/"
        },
        "outputId": "53a461ba-700b-4e45-83ea-6c02389c996b"
      },
      "execution_count": 24,
      "outputs": [
        {
          "output_type": "stream",
          "name": "stdout",
          "text": [
            "An allele reached fixation at generation 271\tThe genotype counts are\t{'AA': 0, 'aa': 100, 'Aa': 0, 'aA': 0}\n"
          ]
        }
      ]
    },
    {
      "cell_type": "code",
      "source": [
        "# try N=20 (small pop)\n",
        "simulate_drift(20, 0.5)"
      ],
      "metadata": {
        "id": "hPJOeuL4h3f9",
        "colab": {
          "base_uri": "https://localhost:8080/"
        },
        "outputId": "69a36697-568a-40fe-da1c-c3fb7fe5af7a"
      },
      "execution_count": 23,
      "outputs": [
        {
          "output_type": "stream",
          "name": "stdout",
          "text": [
            "An allele reached fixation at generation 32\tThe genotype counts are\t{'AA': 0, 'aa': 20, 'Aa': 0, 'aA': 0}\n"
          ]
        }
      ]
    },
    {
      "cell_type": "markdown",
      "source": [
        "## 4.6 Debugging"
      ],
      "metadata": {
        "id": "9CnoRsweqb-b"
      }
    },
    {
      "cell_type": "markdown",
      "source": [
        "### <font color = \"green\">**Intermezzo 4.2**</font>\n",
        "Here is a small program that takes an mRNA sequence, and translates all the codons into the corresponding amino acids. \n",
        "\n",
        "We start at the first nucleotide and consider only one reading frame. The program halts when it encounters a stop codon (UAA, UAG, or UGA). \n",
        "\n",
        "However, there’s a bug in the program! Use the print statement to find the problem, and correct it."
      ],
      "metadata": {
        "id": "7QSbH8uRrfhd"
      }
    },
    {
      "cell_type": "code",
      "source": [
        "!git clone https://github.com/weigangq/CSB-BIOL425.git"
      ],
      "metadata": {
        "colab": {
          "base_uri": "https://localhost:8080/"
        },
        "id": "cU40bEH3Ppxc",
        "outputId": "d086f802-d1ca-4843-defd-d798dcedf719"
      },
      "execution_count": 63,
      "outputs": [
        {
          "output_type": "stream",
          "name": "stdout",
          "text": [
            "Cloning into 'CSB-BIOL425'...\n",
            "remote: Enumerating objects: 1078, done.\u001b[K\n",
            "remote: Counting objects: 100% (73/73), done.\u001b[K\n",
            "remote: Compressing objects: 100% (57/57), done.\u001b[K\n",
            "remote: Total 1078 (delta 35), reused 38 (delta 13), pack-reused 1005\u001b[K\n",
            "Receiving objects: 100% (1078/1078), 28.35 MiB | 15.45 MiB/s, done.\n",
            "Resolving deltas: 100% (424/424), done.\n"
          ]
        }
      ]
    },
    {
      "cell_type": "code",
      "source": [
        "%cd CSB-BIOL425/good_code/sandbox/"
      ],
      "metadata": {
        "colab": {
          "base_uri": "https://localhost:8080/"
        },
        "id": "ndAfzm8AP0SQ",
        "outputId": "16155116-0438-4da1-e8c5-77039d6b10ae"
      },
      "execution_count": 66,
      "outputs": [
        {
          "output_type": "stream",
          "name": "stdout",
          "text": [
            "/content/CSB-BIOL425/good_code/sandbox\n"
          ]
        }
      ]
    },
    {
      "cell_type": "code",
      "source": [
        "import pickle\n",
        "# load dictionary with genetic code from pickle file\n",
        "genetic_code = pickle.load(open(\"../data/genetic_code.pickle\", \"rb\"))\n",
        "# test case: desired amino acid sequence\n",
        "# MEFSL[stop]\n",
        "test_mRNA = \"AUGGAAUUCUCGCUCUGAAGGUAA\"\n",
        "def get_amino_acids(mRNA):\n",
        "  i = 0 # initialize a position counter\n",
        "  aa_sequence = [] # initialize a list for results\n",
        "  while (i + 3) < len(mRNA):\n",
        "    codon = mRNA[i:(i + 3)]\n",
        "    aa = genetic_code[codon]\n",
        "    #print(i, codon, aa)\n",
        "    if aa == \"Stop\":\n",
        "      break\n",
        "    else:\n",
        "      aa_sequence.append(aa)\n",
        "    # advance to the next codon\n",
        "    i = i + 4\n",
        "  return \"\".join(aa_sequence)\n",
        "  print(get_amino_acids(test_mRNA))\n",
        "# problem: the program returns MNLLEV instead of MEFSL!"
      ],
      "metadata": {
        "id": "mLn9El25rvQQ"
      },
      "execution_count": 67,
      "outputs": []
    },
    {
      "cell_type": "code",
      "source": [
        "print(genetic_code)\n",
        "#print_dictionary(genetic_code)"
      ],
      "metadata": {
        "id": "32bdHXaPtXEt",
        "colab": {
          "base_uri": "https://localhost:8080/"
        },
        "outputId": "eb1feb9c-d71b-41fb-e3ec-ad40cde09842"
      },
      "execution_count": 68,
      "outputs": [
        {
          "output_type": "stream",
          "name": "stdout",
          "text": [
            "{'UCG': 'S', 'CCG': 'P', 'UGU': 'C', 'GCU': 'A', 'UCA': 'S', 'AAA': 'K', 'CUC': 'L', 'UCU': 'S', 'UGA': 'Stop', 'AAC': 'N', 'CGG': 'R', 'UUU': 'F', 'GAU': 'D', 'UAG': 'Stop', 'CUG': 'L', 'AGG': 'R', 'UAU': 'Y', 'UAA': 'Stop', 'CAC': 'H', 'CAG': 'Q', 'AUG': 'M', 'ACC': 'T', 'GAG': 'E', 'CUU': 'L', 'UAC': 'Y', 'ACG': 'T', 'CAA': 'Q', 'AGU': 'S', 'GUA': 'V', 'CCU': 'P', 'GGC': 'G', 'GUU': 'V', 'CGA': 'R', 'UUA': 'L', 'CAU': 'H', 'AUC': 'I', 'GGA': 'G', 'GAC': 'D', 'GCC': 'A', 'UUG': 'L', 'ACA': 'T', 'AAU': 'N', 'GUG': 'V', 'CGC': 'R', 'UGG': 'W', 'GAA': 'E', 'GGG': 'G', 'ACU': 'T', 'CUA': 'L', 'UUC': 'F', 'UCC': 'S', 'AGC': 'S', 'AGA': 'R', 'GCG': 'A', 'CGU': 'R', 'CCA': 'P', 'CCC': 'P', 'GCA': 'A', 'AUA': 'I', 'GUC': 'V', 'UGC': 'C', 'AUU': 'I', 'AAG': 'K', 'GGU': 'G'}\n"
          ]
        }
      ]
    },
    {
      "cell_type": "markdown",
      "source": [
        "### <font color=\"green\">Exercise</font>\n",
        "Debugg the mRNA translation function so it prints the expected peptide sequence (Hint: run with print statements)\n",
        "\n",
        "Submit the corrected code"
      ],
      "metadata": {
        "id": "1iY_BDpguKML"
      }
    },
    {
      "cell_type": "markdown",
      "metadata": {
        "id": "SZYIPOTUXv3R"
      },
      "source": [
        "## 4.4 Running from the command line"
      ]
    },
    {
      "cell_type": "markdown",
      "metadata": {
        "id": "m9qPNy5WhitG"
      },
      "source": [
        "### <font color='green'>**Exercise** </font>"
      ]
    },
    {
      "cell_type": "markdown",
      "source": [
        "1.   Start a new notebook, name it \"drift\".\n",
        "1.   Copy the four drift simulation functions into the file\n",
        "1.   Export the notebook: File -> Download -> Download .py (not a notebook)\n",
        "1. Use a text editor, copy and paste the following code & save it as \"wright_fisher_simulator.py\"\n",
        "1. Make it executable: chmod +x wright_fisher_simulator.py\n",
        "1. Make sure to move two python files in the same directory\n",
        "1. Run simulation: ./wright_fisher_simulator.py 100 0.5\n",
        "1. Run the simulator 10 times with a BASH \"for\" loop\n",
        "\n",
        "\n",
        "\n",
        "\n",
        "\n",
        "\n",
        "\n"
      ],
      "metadata": {
        "id": "KEr0khIVvuzI"
      }
    },
    {
      "cell_type": "code",
      "source": [
        "#!/usr/bin/env python\n",
        "# This is a wrapper script, taking inputs from the command line\n",
        "# It calls the simulator function, which in turn calls the other functions\n",
        "\n",
        "# All simulation functions are consolidated in a single file \"drift.py\"\n",
        "\n",
        "# Simulate genetic drift\n",
        "# with Wright-Fisher model of neutrality, random mating,\n",
        "#   constant pop, and non-overlapping generations\n",
        "import sys\n",
        "import drift # assume that drift.py is in the same directory\n",
        "\n",
        "if __name__ == \"__main__\":\n",
        "  # read the arguments on the command line\n",
        "  # and convert to the right type\n",
        "  # (they are strings by default)\n",
        "  N = int(sys.argv[1])\n",
        "  p = float(sys.argv[2])\n",
        "  # call the simulation\n",
        "  drift.simulate_drift(N, p)\n",
        "\n",
        "sys.exit()"
      ],
      "metadata": {
        "id": "hmIiHz6pcoKb",
        "colab": {
          "base_uri": "https://localhost:8080/",
          "height": 384
        },
        "outputId": "15644488-b8c2-4d2a-c019-95349a614567"
      },
      "execution_count": 21,
      "outputs": [
        {
          "output_type": "error",
          "ename": "ModuleNotFoundError",
          "evalue": "ignored",
          "traceback": [
            "\u001b[0;31m---------------------------------------------------------------------------\u001b[0m",
            "\u001b[0;31mModuleNotFoundError\u001b[0m                       Traceback (most recent call last)",
            "\u001b[0;32m<ipython-input-21-7a4509204a9a>\u001b[0m in \u001b[0;36m<module>\u001b[0;34m\u001b[0m\n\u001b[1;32m      9\u001b[0m \u001b[0;31m#   constant pop, and non-overlapping generations\u001b[0m\u001b[0;34m\u001b[0m\u001b[0;34m\u001b[0m\u001b[0;34m\u001b[0m\u001b[0m\n\u001b[1;32m     10\u001b[0m \u001b[0;32mimport\u001b[0m \u001b[0msys\u001b[0m\u001b[0;34m\u001b[0m\u001b[0;34m\u001b[0m\u001b[0m\n\u001b[0;32m---> 11\u001b[0;31m \u001b[0;32mimport\u001b[0m \u001b[0mdrift\u001b[0m \u001b[0;31m# assume that drift.py is in the same directory\u001b[0m\u001b[0;34m\u001b[0m\u001b[0;34m\u001b[0m\u001b[0m\n\u001b[0m\u001b[1;32m     12\u001b[0m \u001b[0;34m\u001b[0m\u001b[0m\n\u001b[1;32m     13\u001b[0m \u001b[0;32mif\u001b[0m \u001b[0m__name__\u001b[0m \u001b[0;34m==\u001b[0m \u001b[0;34m\"__main__\"\u001b[0m\u001b[0;34m:\u001b[0m\u001b[0;34m\u001b[0m\u001b[0;34m\u001b[0m\u001b[0m\n",
            "\u001b[0;31mModuleNotFoundError\u001b[0m: No module named 'drift'",
            "",
            "\u001b[0;31m---------------------------------------------------------------------------\u001b[0;32m\nNOTE: If your import is failing due to a missing package, you can\nmanually install dependencies using either !pip or !apt.\n\nTo view examples of installing some common dependencies, click the\n\"Open Examples\" button below.\n\u001b[0;31m---------------------------------------------------------------------------\u001b[0m\n"
          ],
          "errorDetails": {
            "actions": [
              {
                "action": "open_url",
                "actionText": "Open Examples",
                "url": "/notebooks/snippets/importing_libraries.ipynb"
              }
            ]
          }
        }
      ]
    }
  ],
  "metadata": {
    "colab": {
      "provenance": [],
      "toc_visible": true,
      "include_colab_link": true
    },
    "kernelspec": {
      "display_name": "Python 3",
      "name": "python3"
    },
    "language_info": {
      "codemirror_mode": {
        "name": "ipython",
        "version": 3
      },
      "file_extension": ".py",
      "mimetype": "text/x-python",
      "name": "python",
      "nbconvert_exporter": "python",
      "pygments_lexer": "ipython3",
      "version": "3.9.7"
    },
    "gpuClass": "standard"
  },
  "nbformat": 4,
  "nbformat_minor": 0
}