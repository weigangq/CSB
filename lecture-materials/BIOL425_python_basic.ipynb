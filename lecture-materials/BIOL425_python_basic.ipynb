{
  "cells": [
    {
      "cell_type": "markdown",
      "metadata": {
        "id": "view-in-github",
        "colab_type": "text"
      },
      "source": [
        "<a href=\"https://colab.research.google.com/github/weigangq/CSB-BIOL425/blob/master/BIOL425_python_basic.ipynb\" target=\"_parent\"><img src=\"https://colab.research.google.com/assets/colab-badge.svg\" alt=\"Open In Colab\"/></a>"
      ]
    },
    {
      "cell_type": "markdown",
      "metadata": {
        "id": "ONlL4-xsBLEP"
      },
      "source": [
        "# Chapter 3. Basic Python Programming\n",
        "\n",
        "This a review of Python based on the textbook (CSB) Chapter 3)\n",
        "\n",
        "Save a copy in your own Google account using the menu: File -> \"Save a copy in Drive\"\n",
        "\n",
        "\n",
        "\n",
        "\n"
      ]
    },
    {
      "cell_type": "markdown",
      "metadata": {
        "id": "pVpplkm1DpbO"
      },
      "source": [
        "## 3.3 Data types\n"
      ]
    },
    {
      "cell_type": "markdown",
      "source": [
        "### Strings and numbers"
      ],
      "metadata": {
        "id": "1FsaUvf2FwpY"
      }
    },
    {
      "cell_type": "code",
      "execution_count": null,
      "metadata": {
        "id": "rgXMRQw7C7as",
        "colab": {
          "base_uri": "https://localhost:8080/"
        },
        "outputId": "30031740-00f2-4297-aceb-3148f1beef0d"
      },
      "outputs": [
        {
          "output_type": "execute_result",
          "data": {
            "text/plain": [
              "int"
            ]
          },
          "metadata": {},
          "execution_count": 6
        }
      ],
      "source": [
        "x = 5 # assign value 5 to variable\n",
        "x # show value\n",
        "type(x) # show variable type"
      ]
    },
    {
      "cell_type": "code",
      "source": [
        "y = \"the cell grew\" # create a string variable\n",
        "type(y)"
      ],
      "metadata": {
        "colab": {
          "base_uri": "https://localhost:8080/"
        },
        "id": "GtcyTLBdDEqU",
        "outputId": "18826c47-485e-466d-ba9d-920174e6208c"
      },
      "execution_count": null,
      "outputs": [
        {
          "output_type": "execute_result",
          "data": {
            "text/plain": [
              "str"
            ]
          },
          "metadata": {},
          "execution_count": 7
        }
      ]
    },
    {
      "cell_type": "code",
      "source": [
        "who # show variables in memory"
      ],
      "metadata": {
        "colab": {
          "base_uri": "https://localhost:8080/"
        },
        "id": "ICvum89rEKS2",
        "outputId": "bb30ab8d-1958-4569-dee3-8a88a5a89949"
      },
      "execution_count": null,
      "outputs": [
        {
          "output_type": "stream",
          "name": "stdout",
          "text": [
            "x\t y\t \n"
          ]
        }
      ]
    },
    {
      "cell_type": "code",
      "source": [
        " x + 3 # addition"
      ],
      "metadata": {
        "colab": {
          "base_uri": "https://localhost:8080/"
        },
        "id": "4wOuYiStEGSo",
        "outputId": "7ff4a7b8-bdf8-4234-c6a8-d18b33205252"
      },
      "execution_count": null,
      "outputs": [
        {
          "output_type": "execute_result",
          "data": {
            "text/plain": [
              "8"
            ]
          },
          "metadata": {},
          "execution_count": 8
        }
      ]
    },
    {
      "cell_type": "code",
      "source": [
        "y + \" and is now larger\" # string concatenation"
      ],
      "metadata": {
        "colab": {
          "base_uri": "https://localhost:8080/",
          "height": 35
        },
        "id": "ueq-kXjJEQNV",
        "outputId": "2a6ae439-6fed-46bd-dee1-5bebb971e734"
      },
      "execution_count": null,
      "outputs": [
        {
          "output_type": "execute_result",
          "data": {
            "text/plain": [
              "'the cell grew and is now larger'"
            ],
            "application/vnd.google.colaboratory.intrinsic+json": {
              "type": "string"
            }
          },
          "metadata": {},
          "execution_count": 10
        }
      ]
    },
    {
      "cell_type": "code",
      "source": [
        "# x + y # throw error: can't concatenate two data types"
      ],
      "metadata": {
        "id": "6VH2RAvyEyOn"
      },
      "execution_count": null,
      "outputs": []
    },
    {
      "cell_type": "code",
      "source": [
        "y + \" \" + str(x) + \"mn\" # type casting: a number into a string"
      ],
      "metadata": {
        "colab": {
          "base_uri": "https://localhost:8080/",
          "height": 35
        },
        "id": "PGwL4u4oE3i_",
        "outputId": "6961c4c0-d0ff-4fed-e86b-f2af538c60f7"
      },
      "execution_count": null,
      "outputs": [
        {
          "output_type": "execute_result",
          "data": {
            "text/plain": [
              "'the cell grew 5mn'"
            ],
            "application/vnd.google.colaboratory.intrinsic+json": {
              "type": "string"
            }
          },
          "metadata": {},
          "execution_count": 12
        }
      ]
    },
    {
      "cell_type": "markdown",
      "source": [
        "### Built-in functions\n",
        "Usage: function_name(arguments)"
      ],
      "metadata": {
        "id": "eEtI_6M4F0VV"
      }
    },
    {
      "cell_type": "code",
      "source": [
        "len(y) # string length"
      ],
      "metadata": {
        "colab": {
          "base_uri": "https://localhost:8080/"
        },
        "id": "BvAgNjmnFcpX",
        "outputId": "a8018b0c-8369-435a-9fcb-e276263c056a"
      },
      "execution_count": null,
      "outputs": [
        {
          "output_type": "execute_result",
          "data": {
            "text/plain": [
              "13"
            ]
          },
          "metadata": {},
          "execution_count": 16
        }
      ]
    },
    {
      "cell_type": "code",
      "source": [
        "abs(-3.14) # absolute value"
      ],
      "metadata": {
        "colab": {
          "base_uri": "https://localhost:8080/"
        },
        "id": "UwCXZTvqGG8N",
        "outputId": "8eab1b1c-ff49-42c1-f109-f5fdb444aa61"
      },
      "execution_count": null,
      "outputs": [
        {
          "output_type": "execute_result",
          "data": {
            "text/plain": [
              "3.14"
            ]
          },
          "metadata": {},
          "execution_count": 17
        }
      ]
    },
    {
      "cell_type": "code",
      "source": [
        "pow(3,6) # power"
      ],
      "metadata": {
        "colab": {
          "base_uri": "https://localhost:8080/"
        },
        "id": "u9qkZZdjGKF2",
        "outputId": "fff700d9-45cd-4bb6-985d-a2e7b3c95bf7"
      },
      "execution_count": null,
      "outputs": [
        {
          "output_type": "execute_result",
          "data": {
            "text/plain": [
              "729"
            ]
          },
          "metadata": {},
          "execution_count": 18
        }
      ]
    },
    {
      "cell_type": "code",
      "source": [
        "round(3.1415926, 3) # round to 3 decimal points"
      ],
      "metadata": {
        "colab": {
          "base_uri": "https://localhost:8080/"
        },
        "id": "P98_AeIvGMpf",
        "outputId": "d6c31a49-ad83-4080-826f-002547673932"
      },
      "execution_count": null,
      "outputs": [
        {
          "output_type": "execute_result",
          "data": {
            "text/plain": [
              "3.142"
            ]
          },
          "metadata": {},
          "execution_count": 19
        }
      ]
    },
    {
      "cell_type": "markdown",
      "source": [
        "### Strings & object-specific methods\n",
        "Usage: string_variable.method_name(arguments)"
      ],
      "metadata": {
        "id": "A13MGiipGZ2v"
      }
    },
    {
      "cell_type": "code",
      "source": [
        "astring = \"AATGCATG\""
      ],
      "metadata": {
        "id": "-f6hCHPnGbWP"
      },
      "execution_count": null,
      "outputs": []
    },
    {
      "cell_type": "code",
      "source": [
        "# press Tab after dot to list object methods\n",
        "astring."
      ],
      "metadata": {
        "id": "mRxHOVGwGp7G"
      },
      "execution_count": null,
      "outputs": []
    },
    {
      "cell_type": "code",
      "source": [
        "help(astring.find) # get help"
      ],
      "metadata": {
        "colab": {
          "base_uri": "https://localhost:8080/"
        },
        "id": "uVP1FZNwG4Z-",
        "outputId": "27e696c4-91ec-46db-a40f-ac85b9925daa"
      },
      "execution_count": null,
      "outputs": [
        {
          "output_type": "stream",
          "name": "stdout",
          "text": [
            "Help on built-in function find:\n",
            "\n",
            "find(...) method of builtins.str instance\n",
            "    S.find(sub[, start[, end]]) -> int\n",
            "    \n",
            "    Return the lowest index in S where substring sub is found,\n",
            "    such that sub is contained within S[start:end].  Optional\n",
            "    arguments start and end are interpreted as in slice notation.\n",
            "    \n",
            "    Return -1 on failure.\n",
            "\n"
          ]
        }
      ]
    },
    {
      "cell_type": "code",
      "source": [
        "astring.find(\"C\")"
      ],
      "metadata": {
        "colab": {
          "base_uri": "https://localhost:8080/"
        },
        "id": "L5ivcXRJHNU6",
        "outputId": "f21d29dd-6a2e-4f06-b6a2-0866f8dd2d2c"
      },
      "execution_count": null,
      "outputs": [
        {
          "output_type": "execute_result",
          "data": {
            "text/plain": [
              "4"
            ]
          },
          "metadata": {},
          "execution_count": 23
        }
      ]
    },
    {
      "cell_type": "code",
      "source": [
        "astring.count(\"G\")"
      ],
      "metadata": {
        "colab": {
          "base_uri": "https://localhost:8080/"
        },
        "id": "P-o85J63HSJz",
        "outputId": "bde4b1ee-028a-498e-e0f8-df5697383e22"
      },
      "execution_count": null,
      "outputs": [
        {
          "output_type": "execute_result",
          "data": {
            "text/plain": [
              "2"
            ]
          },
          "metadata": {},
          "execution_count": 24
        }
      ]
    },
    {
      "cell_type": "code",
      "source": [
        "astring.replace(\"T\", \"U\")"
      ],
      "metadata": {
        "colab": {
          "base_uri": "https://localhost:8080/",
          "height": 35
        },
        "id": "M4esx6bdHFHX",
        "outputId": "02ab3e7e-84ef-4099-dc1e-1243ba0d3fb0"
      },
      "execution_count": null,
      "outputs": [
        {
          "output_type": "execute_result",
          "data": {
            "text/plain": [
              "'AAUGCAUG'"
            ],
            "application/vnd.google.colaboratory.intrinsic+json": {
              "type": "string"
            }
          },
          "metadata": {},
          "execution_count": 22
        }
      ]
    },
    {
      "cell_type": "code",
      "source": [
        "species_string = \" Mus musculus \"\n",
        "species_string.split() # split on spaces"
      ],
      "metadata": {
        "colab": {
          "base_uri": "https://localhost:8080/"
        },
        "id": "NKU6d4pRHbGa",
        "outputId": "b4782344-40e0-4934-c221-47f9f33785b5"
      },
      "execution_count": null,
      "outputs": [
        {
          "output_type": "execute_result",
          "data": {
            "text/plain": [
              "['Mus', 'musculus']"
            ]
          },
          "metadata": {},
          "execution_count": 25
        }
      ]
    },
    {
      "cell_type": "code",
      "source": [
        "species_string.split(\"u\") # split on a delimiter"
      ],
      "metadata": {
        "colab": {
          "base_uri": "https://localhost:8080/"
        },
        "id": "PXzAZmIDHvkG",
        "outputId": "41b7dce6-e7b4-4e9f-e7d8-101ef5dd04d8"
      },
      "execution_count": null,
      "outputs": [
        {
          "output_type": "execute_result",
          "data": {
            "text/plain": [
              "[' M', 's m', 'sc', 'l', 's ']"
            ]
          },
          "metadata": {},
          "execution_count": 26
        }
      ]
    },
    {
      "cell_type": "code",
      "source": [
        "species_string.strip() # remove leading and training white spaces"
      ],
      "metadata": {
        "colab": {
          "base_uri": "https://localhost:8080/",
          "height": 35
        },
        "id": "cGwMYergH5um",
        "outputId": "1a31beb8-7427-4bf3-b06f-8d5db8dfd20f"
      },
      "execution_count": null,
      "outputs": [
        {
          "output_type": "execute_result",
          "data": {
            "text/plain": [
              "'Mus musculus'"
            ],
            "application/vnd.google.colaboratory.intrinsic+json": {
              "type": "string"
            }
          },
          "metadata": {},
          "execution_count": 27
        }
      ]
    },
    {
      "cell_type": "code",
      "source": [
        "\"atgc\".upper() # no variable assignment"
      ],
      "metadata": {
        "colab": {
          "base_uri": "https://localhost:8080/",
          "height": 35
        },
        "id": "UFhMpv9UIDYS",
        "outputId": "a89246f4-8453-497d-d631-d9b90c1603f9"
      },
      "execution_count": null,
      "outputs": [
        {
          "output_type": "execute_result",
          "data": {
            "text/plain": [
              "'ATGC'"
            ],
            "application/vnd.google.colaboratory.intrinsic+json": {
              "type": "string"
            }
          },
          "metadata": {},
          "execution_count": 28
        }
      ]
    },
    {
      "cell_type": "code",
      "source": [
        "\"TGCA\".lower()"
      ],
      "metadata": {
        "colab": {
          "base_uri": "https://localhost:8080/",
          "height": 35
        },
        "id": "UMst3gAOIJpX",
        "outputId": "0682ca80-06e3-44fc-e02f-bc9f967d0276"
      },
      "execution_count": null,
      "outputs": [
        {
          "output_type": "execute_result",
          "data": {
            "text/plain": [
              "'tgca'"
            ],
            "application/vnd.google.colaboratory.intrinsic+json": {
              "type": "string"
            }
          },
          "metadata": {},
          "execution_count": 29
        }
      ]
    },
    {
      "cell_type": "code",
      "source": [
        "genus = \"Rattus\"\n",
        "species = \"norvegicus\"\n",
        "genus + \" \" + species # string concatenation"
      ],
      "metadata": {
        "colab": {
          "base_uri": "https://localhost:8080/",
          "height": 35
        },
        "id": "lD5Hhh93ISNI",
        "outputId": "0a933dd6-b69c-4329-9f36-e5443f7cee4b"
      },
      "execution_count": null,
      "outputs": [
        {
          "output_type": "execute_result",
          "data": {
            "text/plain": [
              "'Rattus norvegicus'"
            ],
            "application/vnd.google.colaboratory.intrinsic+json": {
              "type": "string"
            }
          },
          "metadata": {},
          "execution_count": 30
        }
      ]
    },
    {
      "cell_type": "code",
      "source": [
        "(genus + \" \") * 3 # repeat a string"
      ],
      "metadata": {
        "colab": {
          "base_uri": "https://localhost:8080/",
          "height": 35
        },
        "id": "DTkPDMeKMNs3",
        "outputId": "53da6309-0f2e-4092-a644-0333c59331f3"
      },
      "execution_count": null,
      "outputs": [
        {
          "output_type": "execute_result",
          "data": {
            "text/plain": [
              "'Rattus Rattus Rattus '"
            ],
            "application/vnd.google.colaboratory.intrinsic+json": {
              "type": "string"
            }
          },
          "metadata": {},
          "execution_count": 34
        }
      ]
    },
    {
      "cell_type": "code",
      "source": [
        "human = ['Homo', 'sapiens']\n",
        "\" \".join(human) # fast string concatenation from a list"
      ],
      "metadata": {
        "colab": {
          "base_uri": "https://localhost:8080/",
          "height": 35
        },
        "id": "hYwlIh6QIi8I",
        "outputId": "94656d58-e0b3-47b3-da84-1a4e59803765"
      },
      "execution_count": null,
      "outputs": [
        {
          "output_type": "execute_result",
          "data": {
            "text/plain": [
              "'Homo sapiens'"
            ],
            "application/vnd.google.colaboratory.intrinsic+json": {
              "type": "string"
            }
          },
          "metadata": {},
          "execution_count": 31
        }
      ]
    },
    {
      "cell_type": "markdown",
      "metadata": {
        "id": "0AZDsU2khis3"
      },
      "source": [
        "### <font color='green'>**Exercise: Intermezzo 3.1** </font>\n",
        "\n",
        "1.   Initialize the string s = \"WHEN on board H.M.S. Beagle, as natura\u0002list\".\n",
        "2.   Apply a string method to count the number of occurrences of the\n",
        "character b.\n",
        "1.   Modify the command such that it counts both lowercase and upper\u0002case b’s.\n",
        "2.   Replace WHEN with When.\n"
      ]
    },
    {
      "cell_type": "code",
      "source": [
        "s = \"WHEN on board H.M.S. Beagle, as naturalist\"\n",
        "s"
      ],
      "metadata": {
        "colab": {
          "base_uri": "https://localhost:8080/",
          "height": 35
        },
        "id": "YUSgYie_14Hc",
        "outputId": "6e93075e-a67b-497f-fbbe-413247863344"
      },
      "execution_count": 1,
      "outputs": [
        {
          "output_type": "execute_result",
          "data": {
            "text/plain": [
              "'WHEN on board H.M.S. Beagle, as naturalist'"
            ],
            "application/vnd.google.colaboratory.intrinsic+json": {
              "type": "string"
            }
          },
          "metadata": {},
          "execution_count": 1
        }
      ]
    },
    {
      "cell_type": "code",
      "source": [
        "s.count(\"b\")"
      ],
      "metadata": {
        "colab": {
          "base_uri": "https://localhost:8080/"
        },
        "id": "V_14uPM-2HHF",
        "outputId": "92ddda85-b925-41de-bd78-c6ea5378acdf"
      },
      "execution_count": 2,
      "outputs": [
        {
          "output_type": "execute_result",
          "data": {
            "text/plain": [
              "1"
            ]
          },
          "metadata": {},
          "execution_count": 2
        }
      ]
    },
    {
      "cell_type": "code",
      "source": [
        "s.count(\"B\")"
      ],
      "metadata": {
        "colab": {
          "base_uri": "https://localhost:8080/"
        },
        "id": "7jaQ3__P2YlR",
        "outputId": "6ffae836-6945-45fb-fbaf-a6fec07a93f9"
      },
      "execution_count": 3,
      "outputs": [
        {
          "output_type": "execute_result",
          "data": {
            "text/plain": [
              "1"
            ]
          },
          "metadata": {},
          "execution_count": 3
        }
      ]
    },
    {
      "cell_type": "code",
      "source": [
        "s.upper().count(\"B\")"
      ],
      "metadata": {
        "colab": {
          "base_uri": "https://localhost:8080/"
        },
        "id": "JnIRJK712jzI",
        "outputId": "440b8a46-1cb8-4c22-c060-d037dca7546d"
      },
      "execution_count": 6,
      "outputs": [
        {
          "output_type": "execute_result",
          "data": {
            "text/plain": [
              "2"
            ]
          },
          "metadata": {},
          "execution_count": 6
        }
      ]
    },
    {
      "cell_type": "code",
      "source": [
        "s.replace(\"WHEN\", \"When\")"
      ],
      "metadata": {
        "colab": {
          "base_uri": "https://localhost:8080/",
          "height": 35
        },
        "id": "BbiwOCFS2zsg",
        "outputId": "1c8d6e72-35c2-40db-d40b-b43e4b8d255e"
      },
      "execution_count": 7,
      "outputs": [
        {
          "output_type": "execute_result",
          "data": {
            "text/plain": [
              "'When on board H.M.S. Beagle, as naturalist'"
            ],
            "application/vnd.google.colaboratory.intrinsic+json": {
              "type": "string"
            }
          },
          "metadata": {},
          "execution_count": 7
        }
      ]
    },
    {
      "cell_type": "markdown",
      "metadata": {
        "id": "SZYIPOTUXv3R"
      },
      "source": [
        "## 3.4 Data Structures"
      ]
    },
    {
      "cell_type": "markdown",
      "source": [
        "### Lists\n",
        "An ordered collection of values (0-indexed)"
      ],
      "metadata": {
        "id": "u4ekYm6rkFVq"
      }
    },
    {
      "cell_type": "code",
      "execution_count": null,
      "metadata": {
        "id": "3K8_3ReMhitF",
        "colab": {
          "base_uri": "https://localhost:8080/"
        },
        "outputId": "4de86995-6e93-4c8f-f525-2db48d165102"
      },
      "outputs": [
        {
          "output_type": "execute_result",
          "data": {
            "text/plain": [
              "['0', '1', '2', '3', '4', '5', '6', '7', '8', '9']"
            ]
          },
          "metadata": {},
          "execution_count": 43
        }
      ],
      "source": [
        "my_list_1 = [] # create an empty list\n",
        "my_list = [ 3, 2.44, \"green\", True ] # a list of different data types\n",
        "a = list(\"0123456789\") # using the list() function\n",
        "a "
      ]
    },
    {
      "cell_type": "code",
      "execution_count": null,
      "metadata": {
        "id": "k0spZQKShitG",
        "colab": {
          "base_uri": "https://localhost:8080/"
        },
        "outputId": "332869f9-5b74-494f-93d6-d3ab177f9e40"
      },
      "outputs": [
        {
          "output_type": "execute_result",
          "data": {
            "text/plain": [
              "['blue', 2.44, 'green', True]"
            ]
          },
          "metadata": {},
          "execution_count": 44
        }
      ],
      "source": [
        "my_list[0] = \"blue\" # use index to update a value\n",
        "my_list"
      ]
    },
    {
      "cell_type": "code",
      "source": [
        "my_list[0:1] # elements 0 to 1 (noninclusive)"
      ],
      "metadata": {
        "colab": {
          "base_uri": "https://localhost:8080/"
        },
        "id": "F6nu0FfmaNNZ",
        "outputId": "92566f9e-7a12-4765-d2fc-43ebe804adcb"
      },
      "execution_count": null,
      "outputs": [
        {
          "output_type": "execute_result",
          "data": {
            "text/plain": [
              "['blue']"
            ]
          },
          "metadata": {},
          "execution_count": 37
        }
      ]
    },
    {
      "cell_type": "code",
      "source": [
        "my_list[:3] # elements up to 3 (noninclusive)"
      ],
      "metadata": {
        "colab": {
          "base_uri": "https://localhost:8080/"
        },
        "id": "cFpqN5brabUN",
        "outputId": "d0874b74-a925-4d01-dfe6-730055f8c869"
      },
      "execution_count": null,
      "outputs": [
        {
          "output_type": "execute_result",
          "data": {
            "text/plain": [
              "['blue', 2.44, 'green']"
            ]
          },
          "metadata": {},
          "execution_count": 39
        }
      ]
    },
    {
      "cell_type": "code",
      "source": [
        "my_list[3:] # from the 4th elements to end"
      ],
      "metadata": {
        "colab": {
          "base_uri": "https://localhost:8080/"
        },
        "id": "cKe3sTYXaoj4",
        "outputId": "6da734bc-bef7-4a1b-ae0d-961a3ab9aeda"
      },
      "execution_count": null,
      "outputs": [
        {
          "output_type": "execute_result",
          "data": {
            "text/plain": [
              "[True]"
            ]
          },
          "metadata": {},
          "execution_count": 40
        }
      ]
    },
    {
      "cell_type": "code",
      "source": [
        "my_list[-2] # 2nd from last"
      ],
      "metadata": {
        "colab": {
          "base_uri": "https://localhost:8080/",
          "height": 35
        },
        "id": "qeZovax9a8zL",
        "outputId": "bcb4e7b0-6702-476e-ded1-75f9a09c64c3"
      },
      "execution_count": null,
      "outputs": [
        {
          "output_type": "execute_result",
          "data": {
            "text/plain": [
              "'green'"
            ],
            "application/vnd.google.colaboratory.intrinsic+json": {
              "type": "string"
            }
          },
          "metadata": {},
          "execution_count": 41
        }
      ]
    },
    {
      "cell_type": "markdown",
      "metadata": {
        "id": "LYfpRHj1hitG"
      },
      "source": [
        "List functions"
      ]
    },
    {
      "cell_type": "code",
      "execution_count": null,
      "metadata": {
        "id": "T4zC277ghitG",
        "colab": {
          "base_uri": "https://localhost:8080/"
        },
        "outputId": "d6fef25b-60ec-4ba7-ed2f-4983af96c57f"
      },
      "outputs": [
        {
          "output_type": "execute_result",
          "data": {
            "text/plain": [
              "['blue', 2.44, 'green', True, 25]"
            ]
          },
          "metadata": {},
          "execution_count": 45
        }
      ],
      "source": [
        "my_list.append(25) # append to the end\n",
        "my_list"
      ]
    },
    {
      "cell_type": "code",
      "source": [
        "list_copy = my_list.copy() # copy\n",
        "list_copy"
      ],
      "metadata": {
        "colab": {
          "base_uri": "https://localhost:8080/"
        },
        "id": "GX-KkZMridt6",
        "outputId": "38bfe319-0792-4d9b-8bf3-36fe31ecce5f"
      },
      "execution_count": null,
      "outputs": [
        {
          "output_type": "execute_result",
          "data": {
            "text/plain": [
              "['blue', 2.44, 'green', True, 25]"
            ]
          },
          "metadata": {},
          "execution_count": 47
        }
      ]
    },
    {
      "cell_type": "code",
      "source": [
        "my_list.clear() # remove all elements\n",
        "my_list"
      ],
      "metadata": {
        "colab": {
          "base_uri": "https://localhost:8080/"
        },
        "id": "4GNaxrLYipLr",
        "outputId": "e6c1abd3-994f-4588-87c5-9a6d7ceed881"
      },
      "execution_count": null,
      "outputs": [
        {
          "output_type": "execute_result",
          "data": {
            "text/plain": [
              "[]"
            ]
          },
          "metadata": {},
          "execution_count": 48
        }
      ]
    },
    {
      "cell_type": "code",
      "source": [
        "seq = list(\"TKAAVVNFT\")\n",
        "seq.count(\"V\")"
      ],
      "metadata": {
        "colab": {
          "base_uri": "https://localhost:8080/"
        },
        "id": "Sv7QHqcui4CA",
        "outputId": "4322f53e-a0a3-4070-d783-fba351852fe1"
      },
      "execution_count": null,
      "outputs": [
        {
          "output_type": "execute_result",
          "data": {
            "text/plain": [
              "2"
            ]
          },
          "metadata": {},
          "execution_count": 49
        }
      ]
    },
    {
      "cell_type": "code",
      "source": [
        "seq.index(\"V\")"
      ],
      "metadata": {
        "colab": {
          "base_uri": "https://localhost:8080/"
        },
        "id": "rfodRKzni-UR",
        "outputId": "3b6f6f94-7da0-4ada-b58b-eb006d40def5"
      },
      "execution_count": null,
      "outputs": [
        {
          "output_type": "execute_result",
          "data": {
            "text/plain": [
              "4"
            ]
          },
          "metadata": {},
          "execution_count": 50
        }
      ]
    },
    {
      "cell_type": "code",
      "source": [
        "seq2 = seq.pop() # remove the last element; return the element\n",
        "print(seq)\n",
        "seq2"
      ],
      "metadata": {
        "colab": {
          "base_uri": "https://localhost:8080/",
          "height": 53
        },
        "id": "D4L9EN4RjCaB",
        "outputId": "6cb248a5-d926-4cbd-cb69-cfccd26bda8a"
      },
      "execution_count": null,
      "outputs": [
        {
          "output_type": "stream",
          "name": "stdout",
          "text": [
            "['T', 'K', 'A', 'A', 'V', 'V']\n"
          ]
        },
        {
          "output_type": "execute_result",
          "data": {
            "text/plain": [
              "'N'"
            ],
            "application/vnd.google.colaboratory.intrinsic+json": {
              "type": "string"
            }
          },
          "metadata": {},
          "execution_count": 53
        }
      ]
    },
    {
      "cell_type": "code",
      "source": [
        "a = [1, 5, 2, 42, 14, 132]\n",
        "print(a)\n",
        "a.sort() # sort (either numerically or alphabatically)\n",
        "print(a)"
      ],
      "metadata": {
        "colab": {
          "base_uri": "https://localhost:8080/"
        },
        "id": "zmiwhLv_jTxD",
        "outputId": "26414c0c-a508-4ba3-9d66-4d6854519c5b"
      },
      "execution_count": null,
      "outputs": [
        {
          "output_type": "stream",
          "name": "stdout",
          "text": [
            "[1, 5, 2, 42, 14, 132]\n",
            "[1, 2, 5, 14, 42, 132]\n"
          ]
        }
      ]
    },
    {
      "cell_type": "code",
      "source": [
        "a.reverse()\n",
        "print(a)"
      ],
      "metadata": {
        "colab": {
          "base_uri": "https://localhost:8080/"
        },
        "id": "ElzU6KynjnNE",
        "outputId": "65665c03-df74-425c-a669-d9c95dd265b1"
      },
      "execution_count": null,
      "outputs": [
        {
          "output_type": "stream",
          "name": "stdout",
          "text": [
            "[132, 42, 14, 5, 2, 1]\n"
          ]
        }
      ]
    },
    {
      "cell_type": "code",
      "source": [
        "del(a[2:3]) # delete by index\n",
        "a"
      ],
      "metadata": {
        "colab": {
          "base_uri": "https://localhost:8080/"
        },
        "id": "4oMTfUEejxFO",
        "outputId": "e42d72c9-96e3-4180-c24b-3de50beb629c"
      },
      "execution_count": null,
      "outputs": [
        {
          "output_type": "execute_result",
          "data": {
            "text/plain": [
              "[132, 42, 2, 1]"
            ]
          },
          "metadata": {},
          "execution_count": 58
        }
      ]
    },
    {
      "cell_type": "markdown",
      "source": [
        "### Dictionaries\n",
        "key-value pairs, indexed by strings (not by positions as in lists)"
      ],
      "metadata": {
        "id": "YUOFZvIOkSCZ"
      }
    },
    {
      "cell_type": "code",
      "source": [
        "my_dict = {} # empty dictionary\n",
        "my_dict = {\"a\": \"test\", \"b\": 3.14, \"c\": [1,2,3,4]}\n",
        "my_dict"
      ],
      "metadata": {
        "colab": {
          "base_uri": "https://localhost:8080/"
        },
        "id": "q2Rkojf9ktgh",
        "outputId": "2d31a6f7-5291-4a58-fc15-3bccd32ae38e"
      },
      "execution_count": null,
      "outputs": [
        {
          "output_type": "execute_result",
          "data": {
            "text/plain": [
              "{'a': 'test', 'b': 3.14, 'c': [1, 2, 3, 4]}"
            ]
          },
          "metadata": {},
          "execution_count": 59
        }
      ]
    },
    {
      "cell_type": "code",
      "source": [
        "genome_size = {\"Homo sapiens\": 3200.0, \n",
        "              \"Escherichia coli\": 4.6, \n",
        "              \"Arabidopsis thaliana\": 157.0}\n",
        "genome_size"
      ],
      "metadata": {
        "colab": {
          "base_uri": "https://localhost:8080/"
        },
        "id": "zq0JCFlxk9Lq",
        "outputId": "28645a8e-253e-4a9b-9ecd-c480e2b0a45e"
      },
      "execution_count": null,
      "outputs": [
        {
          "output_type": "execute_result",
          "data": {
            "text/plain": [
              "{'Homo sapiens': 3200.0,\n",
              " 'Escherichia coli': 4.6,\n",
              " 'Arabidopsis thaliana': 157.0}"
            ]
          },
          "metadata": {},
          "execution_count": 72
        }
      ]
    },
    {
      "cell_type": "code",
      "source": [
        "genome_size[\"Arabidopsis thaliana\"]"
      ],
      "metadata": {
        "colab": {
          "base_uri": "https://localhost:8080/"
        },
        "id": "xD0RWdIjlclD",
        "outputId": "baca90ff-cbc0-4885-bbad-8bfbc7d17ce2"
      },
      "execution_count": null,
      "outputs": [
        {
          "output_type": "execute_result",
          "data": {
            "text/plain": [
              "157.0"
            ]
          },
          "metadata": {},
          "execution_count": 73
        }
      ]
    },
    {
      "cell_type": "code",
      "source": [
        "genome_size[\"Saccharomyces cerevisiae\"] = 12.1\n",
        "genome_size"
      ],
      "metadata": {
        "colab": {
          "base_uri": "https://localhost:8080/"
        },
        "id": "8nwuP_p-lrgj",
        "outputId": "73ef4ddf-56f3-475b-a232-b9c5ddb952fb"
      },
      "execution_count": null,
      "outputs": [
        {
          "output_type": "execute_result",
          "data": {
            "text/plain": [
              "{'Homo sapiens': 3200.0,\n",
              " 'Escherichia coli': 4.6,\n",
              " 'Arabidopsis thaliana': 157.0,\n",
              " 'Saccharomyces cerevisiae': 12.1}"
            ]
          },
          "metadata": {},
          "execution_count": 74
        }
      ]
    },
    {
      "cell_type": "code",
      "source": [
        "GS = genome_size.copy() # make a copy\n",
        "genome_size.clear() # remove all\n",
        "GS.get(\"Mus musculus\", -10) # get the value; return a default if not present\n",
        "GS.keys()"
      ],
      "metadata": {
        "colab": {
          "base_uri": "https://localhost:8080/"
        },
        "id": "lUJVNY9pl6LG",
        "outputId": "07e546c8-9f79-4c71-9f58-4fc3fe8ec7c5"
      },
      "execution_count": null,
      "outputs": [
        {
          "output_type": "execute_result",
          "data": {
            "text/plain": [
              "dict_keys(['Homo sapiens', 'Escherichia coli', 'Arabidopsis thaliana', 'Saccharomyces cerevisiae'])"
            ]
          },
          "metadata": {},
          "execution_count": 75
        }
      ]
    },
    {
      "cell_type": "code",
      "source": [
        "GS.values()"
      ],
      "metadata": {
        "colab": {
          "base_uri": "https://localhost:8080/"
        },
        "id": "kSxxuGlonFka",
        "outputId": "dbcf6a5c-fb87-4449-cb11-ed6f6b0fd783"
      },
      "execution_count": null,
      "outputs": [
        {
          "output_type": "execute_result",
          "data": {
            "text/plain": [
              "dict_values([3200.0, 4.6, 157.0, 12.1])"
            ]
          },
          "metadata": {},
          "execution_count": 76
        }
      ]
    },
    {
      "cell_type": "code",
      "source": [
        "GS.pop(\"Homo sapiens\") # return the removed key"
      ],
      "metadata": {
        "colab": {
          "base_uri": "https://localhost:8080/"
        },
        "id": "6rDN585inMVh",
        "outputId": "37f0e19b-d1da-4b68-c0d2-6d088c9cd737"
      },
      "execution_count": null,
      "outputs": [
        {
          "output_type": "execute_result",
          "data": {
            "text/plain": [
              "3200.0"
            ]
          },
          "metadata": {},
          "execution_count": 77
        }
      ]
    },
    {
      "cell_type": "code",
      "source": [
        "GS"
      ],
      "metadata": {
        "colab": {
          "base_uri": "https://localhost:8080/"
        },
        "id": "o9wGf8_inTmt",
        "outputId": "cdf8d518-0320-42d0-c167-9baa77e1ac0f"
      },
      "execution_count": null,
      "outputs": [
        {
          "output_type": "execute_result",
          "data": {
            "text/plain": [
              "{'Escherichia coli': 4.6,\n",
              " 'Arabidopsis thaliana': 157.0,\n",
              " 'Saccharomyces cerevisiae': 12.1}"
            ]
          },
          "metadata": {},
          "execution_count": 78
        }
      ]
    },
    {
      "cell_type": "code",
      "source": [
        "D1 = {\"a\": 1, \"b\": 2, \"c\": 3}\n",
        "D2 = {\"a\": 2, \"d\": 4, \"e\": 5}\n",
        "D1.update(D2) # join two dictionarie\n",
        "D1"
      ],
      "metadata": {
        "colab": {
          "base_uri": "https://localhost:8080/"
        },
        "id": "_O6hkmVdnhsD",
        "outputId": "f1f236ae-92f3-4de5-d386-50c68444e60c"
      },
      "execution_count": null,
      "outputs": [
        {
          "output_type": "execute_result",
          "data": {
            "text/plain": [
              "{'a': 2, 'b': 2, 'c': 3, 'd': 4, 'e': 5}"
            ]
          },
          "metadata": {},
          "execution_count": 79
        }
      ]
    },
    {
      "cell_type": "markdown",
      "source": [
        "### Tuples\n",
        "Immunatable (protected) lists; faster to access"
      ],
      "metadata": {
        "id": "EHRLJte_q999"
      }
    },
    {
      "cell_type": "code",
      "source": [
        "tt = (1,1,1,1,2,2,4)\n",
        "print(tt.count(1))\n",
        "print(tt.index(2)) # 1st index of a value"
      ],
      "metadata": {
        "colab": {
          "base_uri": "https://localhost:8080/"
        },
        "id": "wD84uwParLDK",
        "outputId": "849c243b-46f9-4fc4-dcbb-e49625417445"
      },
      "execution_count": null,
      "outputs": [
        {
          "output_type": "stream",
          "name": "stdout",
          "text": [
            "4\n",
            "4\n"
          ]
        }
      ]
    },
    {
      "cell_type": "code",
      "source": [
        "D3 = {(\"trial\", 62): 4829} # tuples as keys of a dictionary\n",
        "D3"
      ],
      "metadata": {
        "colab": {
          "base_uri": "https://localhost:8080/"
        },
        "id": "B_6EGdWKrpC5",
        "outputId": "5a2f69e0-98cb-4f2e-a0b7-5606676dba3d"
      },
      "execution_count": null,
      "outputs": [
        {
          "output_type": "execute_result",
          "data": {
            "text/plain": [
              "{('trial', 62): 4829}"
            ]
          },
          "metadata": {},
          "execution_count": 86
        }
      ]
    },
    {
      "cell_type": "markdown",
      "source": [
        "### Sets\n",
        "lists with No duplicated entries"
      ],
      "metadata": {
        "id": "BNSiHK8Pr9ud"
      }
    },
    {
      "cell_type": "code",
      "source": [
        "a = set([]) # initialize an empty set\n",
        "type(a)\n",
        "a"
      ],
      "metadata": {
        "colab": {
          "base_uri": "https://localhost:8080/"
        },
        "id": "Dvr_xtxEt1al",
        "outputId": "be60889e-8760-4ab5-8ea0-054853343660"
      },
      "execution_count": 10,
      "outputs": [
        {
          "output_type": "execute_result",
          "data": {
            "text/plain": [
              "set()"
            ]
          },
          "metadata": {},
          "execution_count": 10
        }
      ]
    },
    {
      "cell_type": "code",
      "source": [
        " a = [5, 6, 7, 7, 7, 8, 9, 9] \n",
        " b =  set(a)\n",
        " b # note the curly braces"
      ],
      "metadata": {
        "colab": {
          "base_uri": "https://localhost:8080/"
        },
        "id": "qa1NSIchsGOf",
        "outputId": "fa99fdf2-fddb-4b21-b5e9-7c64706d5d1f"
      },
      "execution_count": null,
      "outputs": [
        {
          "output_type": "execute_result",
          "data": {
            "text/plain": [
              "{5, 6, 7, 8, 9}"
            ]
          },
          "metadata": {},
          "execution_count": 87
        }
      ]
    },
    {
      "cell_type": "code",
      "source": [
        "c = {3,4,5,6} # curly braces creates a set\n",
        "print(b & c) # intersection\n",
        "b.intersection(c) # same"
      ],
      "metadata": {
        "colab": {
          "base_uri": "https://localhost:8080/"
        },
        "id": "_CurQo_ssS5Q",
        "outputId": "63d8b3bb-482b-4087-af39-70789d130aff"
      },
      "execution_count": null,
      "outputs": [
        {
          "output_type": "stream",
          "name": "stdout",
          "text": [
            "{5, 6}\n"
          ]
        },
        {
          "output_type": "execute_result",
          "data": {
            "text/plain": [
              "{5, 6}"
            ]
          },
          "metadata": {},
          "execution_count": 91
        }
      ]
    },
    {
      "cell_type": "code",
      "source": [
        "print(b | c) # union\n",
        "b.union(c) # same"
      ],
      "metadata": {
        "colab": {
          "base_uri": "https://localhost:8080/"
        },
        "id": "xv4kUNRism0v",
        "outputId": "5ee6d945-5b04-4b74-8ffd-f17c9c023436"
      },
      "execution_count": null,
      "outputs": [
        {
          "output_type": "stream",
          "name": "stdout",
          "text": [
            "{3, 4, 5, 6, 7, 8, 9}\n"
          ]
        },
        {
          "output_type": "execute_result",
          "data": {
            "text/plain": [
              "{3, 4, 5, 6, 7, 8, 9}"
            ]
          },
          "metadata": {},
          "execution_count": 92
        }
      ]
    },
    {
      "cell_type": "code",
      "source": [
        "print(b ^ c) # differences ( in b but not c, or in c but not in b)\n",
        "print(b.symmetric_difference(c)) # same\n",
        "print(b.difference(c)) # in b but not in c\n",
        "print(c.difference(b)) # in c but not in b\n"
      ],
      "metadata": {
        "colab": {
          "base_uri": "https://localhost:8080/"
        },
        "id": "UbkNMKAZsp1m",
        "outputId": "7c17f0a9-0f9f-418c-ea81-e61b1baa9895"
      },
      "execution_count": null,
      "outputs": [
        {
          "output_type": "stream",
          "name": "stdout",
          "text": [
            "{3, 4, 7, 8, 9}\n",
            "{8, 9, 7}\n",
            "{3, 4}\n",
            "{3, 4, 7, 8, 9}\n"
          ]
        }
      ]
    },
    {
      "cell_type": "markdown",
      "source": [
        "### Nested data structures\n",
        "\n"
      ],
      "metadata": {
        "id": "0DGBUkKSuIu2"
      }
    },
    {
      "cell_type": "code",
      "source": [
        "one = (1, 2) # a tuple\n",
        "two = [3, 4] # a list\n",
        "three = {5: [\"value1\"], 6: [\"value2\"]} #  a dictionary, keys are numbers, values are lists\n",
        "\n",
        "# a list of the above three\n",
        "container = [one, two, three]\n",
        "container"
      ],
      "metadata": {
        "colab": {
          "base_uri": "https://localhost:8080/"
        },
        "id": "0M_QCKUbumyL",
        "outputId": "5f0f98ed-9d64-46e3-9e71-b75fc74e603f"
      },
      "execution_count": 12,
      "outputs": [
        {
          "output_type": "execute_result",
          "data": {
            "text/plain": [
              "[(1, 2), [3, 4], {5: ['value1'], 6: ['value2']}]"
            ]
          },
          "metadata": {},
          "execution_count": 12
        }
      ]
    },
    {
      "cell_type": "code",
      "source": [
        "container[2][5].append(\"value3\") # append a value to three[5]\n",
        "container"
      ],
      "metadata": {
        "id": "vYnnvtwcus2H",
        "colab": {
          "base_uri": "https://localhost:8080/"
        },
        "outputId": "14955c6b-dc74-4b83-bdbc-ddce60678177"
      },
      "execution_count": 14,
      "outputs": [
        {
          "output_type": "execute_result",
          "data": {
            "text/plain": [
              "[(1, 2), [3, 4], {5: ['value1', 'value3', 'value3'], 6: ['value2']}]"
            ]
          },
          "metadata": {},
          "execution_count": 14
        }
      ]
    },
    {
      "cell_type": "markdown",
      "metadata": {
        "id": "m9qPNy5WhitG"
      },
      "source": [
        "### <font color='green'>**Exercise: Intermezzo 3.2** </font>"
      ]
    },
    {
      "cell_type": "markdown",
      "source": [
        "1.   Define a list a = [1, 1, 2, 3, 5, 8].\n",
        "1.   Extract [5, 8] in two different ways.\n",
        "1.   Add the element 13 at the end of the list.\n",
        "2.   Reverse the list.\n",
        "2.   Define a dictionary m = {\"a\": \".-\", \"b\": \"-...-\", \"c\": '-.-.'}.\n",
        "1.   Add the element \"d\": \"-..\".\n",
        "2.   Update the value \"b\": \"-...\"\n",
        "\n",
        "\n",
        "\n",
        "\n",
        "\n",
        "\n"
      ],
      "metadata": {
        "id": "KEr0khIVvuzI"
      }
    },
    {
      "cell_type": "markdown",
      "source": [
        "## 3.5 Common functions"
      ],
      "metadata": {
        "id": "jzzUHA7Iykmx"
      }
    },
    {
      "cell_type": "code",
      "source": [
        "max(1.2, 3.71, 1.15)"
      ],
      "metadata": {
        "colab": {
          "base_uri": "https://localhost:8080/"
        },
        "id": "EPXIhMNtysgP",
        "outputId": "67d1d667-8bae-4f88-d87f-3b7e7b54d063"
      },
      "execution_count": null,
      "outputs": [
        {
          "output_type": "execute_result",
          "data": {
            "text/plain": [
              "3.71"
            ]
          },
          "metadata": {},
          "execution_count": 108
        }
      ]
    },
    {
      "cell_type": "code",
      "source": [
        "max(\"scientific computing\")"
      ],
      "metadata": {
        "colab": {
          "base_uri": "https://localhost:8080/",
          "height": 35
        },
        "id": "U0ce7gMqzNpn",
        "outputId": "38b0c905-d01f-45cd-926a-00b4d465893e"
      },
      "execution_count": null,
      "outputs": [
        {
          "output_type": "execute_result",
          "data": {
            "text/plain": [
              "'u'"
            ],
            "application/vnd.google.colaboratory.intrinsic+json": {
              "type": "string"
            }
          },
          "metadata": {},
          "execution_count": 109
        }
      ]
    },
    {
      "cell_type": "code",
      "source": [
        "min(\"scientific computing\") # space has the lowest numerical value"
      ],
      "metadata": {
        "colab": {
          "base_uri": "https://localhost:8080/",
          "height": 35
        },
        "id": "yzoZvuBXzQcw",
        "outputId": "601fcae9-5e7c-40c5-bf75-3b46f96e088f"
      },
      "execution_count": null,
      "outputs": [
        {
          "output_type": "execute_result",
          "data": {
            "text/plain": [
              "' '"
            ],
            "application/vnd.google.colaboratory.intrinsic+json": {
              "type": "string"
            }
          },
          "metadata": {},
          "execution_count": 110
        }
      ]
    },
    {
      "cell_type": "code",
      "source": [
        "sum(set([1,1,2,3,5,8]))"
      ],
      "metadata": {
        "colab": {
          "base_uri": "https://localhost:8080/"
        },
        "id": "ktydjiIdzZDo",
        "outputId": "5fd163bd-4362-4f42-da42-56ed7ddd0392"
      },
      "execution_count": null,
      "outputs": [
        {
          "output_type": "execute_result",
          "data": {
            "text/plain": [
              "19"
            ]
          },
          "metadata": {},
          "execution_count": 112
        }
      ]
    },
    {
      "cell_type": "code",
      "source": [
        "# the \"in\" function test for membership\n",
        "\"s\" in \"string\" # test if in a string"
      ],
      "metadata": {
        "colab": {
          "base_uri": "https://localhost:8080/"
        },
        "id": "lqey0PaQzfCJ",
        "outputId": "88d3ce93-c741-48f8-f3ba-78bedb01a8d1"
      },
      "execution_count": null,
      "outputs": [
        {
          "output_type": "execute_result",
          "data": {
            "text/plain": [
              "True"
            ]
          },
          "metadata": {},
          "execution_count": 113
        }
      ]
    },
    {
      "cell_type": "code",
      "source": [
        " 36 not in [1, 2, 36] # test if NOT in a list"
      ],
      "metadata": {
        "colab": {
          "base_uri": "https://localhost:8080/"
        },
        "id": "wxgrTuYmzsYn",
        "outputId": "d6172dcc-5cf9-4178-a073-57d27016a40e"
      },
      "execution_count": null,
      "outputs": [
        {
          "output_type": "execute_result",
          "data": {
            "text/plain": [
              "False"
            ]
          },
          "metadata": {},
          "execution_count": 114
        }
      ]
    },
    {
      "cell_type": "code",
      "source": [
        " (1, 2) in [(1, 3), (1, 2), 1000, 'aaa'] # test existence of a tuple in a list"
      ],
      "metadata": {
        "id": "jNWMCx4gzwFQ"
      },
      "execution_count": null,
      "outputs": []
    },
    {
      "cell_type": "code",
      "source": [
        "\"z\" in {\"a\": 1, \"b\": 2, \"c\": 3} # for a dictionary, test if a key exist"
      ],
      "metadata": {
        "colab": {
          "base_uri": "https://localhost:8080/"
        },
        "id": "uodqdZed0AfZ",
        "outputId": "f9ae2fd6-15c1-4223-e71c-6389d2264657"
      },
      "execution_count": null,
      "outputs": [
        {
          "output_type": "execute_result",
          "data": {
            "text/plain": [
              "False"
            ]
          },
          "metadata": {},
          "execution_count": 115
        }
      ]
    },
    {
      "cell_type": "code",
      "source": [
        "\"c\" in {\"a\": 1, \"b\": 2, \"c\": 3}"
      ],
      "metadata": {
        "colab": {
          "base_uri": "https://localhost:8080/"
        },
        "id": "dsV0Rxtw0ITJ",
        "outputId": "2449b509-750e-4305-ecf2-18ac023ee9fc"
      },
      "execution_count": null,
      "outputs": [
        {
          "output_type": "execute_result",
          "data": {
            "text/plain": [
              "True"
            ]
          },
          "metadata": {},
          "execution_count": 116
        }
      ]
    },
    {
      "cell_type": "markdown",
      "metadata": {
        "id": "2t6DUJ4BtKbr"
      },
      "source": [
        "## 3.6 Control Flow\n"
      ]
    },
    {
      "cell_type": "markdown",
      "source": [
        "### Conditional branching"
      ],
      "metadata": {
        "id": "Ld43HR0ODU9W"
      }
    },
    {
      "cell_type": "code",
      "execution_count": null,
      "metadata": {
        "id": "WFQ7pA3Tvd9s",
        "colab": {
          "base_uri": "https://localhost:8080/"
        },
        "outputId": "edc18e1e-6f4e-46c4-82e3-463dc57cec3c"
      },
      "outputs": [
        {
          "output_type": "stream",
          "name": "stdout",
          "text": [
            "<class 'bool'>\n",
            "False True\n"
          ]
        }
      ],
      "source": [
        "print(type(True)) # <class 'bool'>\n",
        "easy = False\n",
        "soft = True\n",
        "print(easy,soft) # we can print multiple variables by separating each with a comma\n"
      ]
    },
    {
      "cell_type": "markdown",
      "metadata": {
        "id": "o8r9K42rwRC3"
      },
      "source": [
        "What if we wanted to write a program that prints a greeting to the screen based on whether or not it is raining. We can do this via the if statement. The structure of an if statement is: \\\n",
        "```\n",
        "if (expression that evaluates to a bool):\n",
        "      # code to run if expression is True\n",
        "else:\n",
        "      # code to run if expression is False\n",
        "```\n",
        "Note the indentation after the colon. This is important as it lets Python know where the block of code belonging to each clause of the if statement is,"
      ]
    },
    {
      "cell_type": "code",
      "execution_count": null,
      "metadata": {
        "id": "UZi8Txfpmr90",
        "colab": {
          "base_uri": "https://localhost:8080/"
        },
        "outputId": "35f1ace2-9224-4230-e8cf-c8aed41d4e8f"
      },
      "outputs": [
        {
          "output_type": "stream",
          "name": "stdout",
          "text": [
            "<class 'bool'>\n",
            "Hello. Have a nice day\n"
          ]
        }
      ],
      "source": [
        "is_raining = False\n",
        "# isRaining = false # error\n",
        "print(type(is_raining))\n",
        "if is_raining:\n",
        "  # this executes if isRaining evaluates to True\n",
        "  message = \"Hello! Remember to take an umbrella\"\n",
        "else:\n",
        "  # this executes if isRaining evalueations to False\n",
        "  message = \"Hello. Have a nice day\"\n",
        "\n",
        "print(message)"
      ]
    },
    {
      "cell_type": "markdown",
      "metadata": {
        "id": "oMMdaH58xqAu"
      },
      "source": [
        "We can also write an if statement with more than 2 branches"
      ]
    },
    {
      "cell_type": "code",
      "execution_count": null,
      "metadata": {
        "id": "4ssOo5dHuq7U",
        "colab": {
          "base_uri": "https://localhost:8080/"
        },
        "outputId": "c00e69d4-9420-4532-8619-58af4f609710"
      },
      "outputs": [
        {
          "output_type": "stream",
          "name": "stdout",
          "text": [
            "Remember to take your umbrella\n"
          ]
        }
      ],
      "source": [
        "is_not_raining = False\n",
        "has_umbrella = True\n",
        "\n",
        "if is_not_raining:\n",
        "  # this executes if isNotRaining evaluates to True\n",
        "  message = \"Hello! Have a nice day\"\n",
        "# if it is raining (isNotRaining is False), check if I have an umbrella\n",
        "elif has_umbrella:\n",
        "  # this executes if isRaining evalueations to False\n",
        "  message = \"Remember to take your umbrella\"\n",
        "# if it is raining and I do not have an umbrella\n",
        "else:\n",
        "  message = \"Try not to get wet!\"\n",
        "\n",
        "print(message)"
      ]
    },
    {
      "cell_type": "markdown",
      "metadata": {
        "id": "ufpuZaq89Jps"
      },
      "source": [
        "We can also omit the else clause all together if we dont want to do anything if the expression is False"
      ]
    },
    {
      "cell_type": "code",
      "execution_count": null,
      "metadata": {
        "id": "Q7od1aEw9T0j"
      },
      "outputs": [],
      "source": [
        "hasUmbrella = False\n",
        "\n",
        "if hasUmbrella:\n",
        "  print(\"cool umbrella\") # does not print"
      ]
    },
    {
      "cell_type": "code",
      "execution_count": null,
      "metadata": {
        "id": "uPvML6MS281z",
        "colab": {
          "base_uri": "https://localhost:8080/"
        },
        "outputId": "17199884-a32e-4b73-f38d-24bc5105cc7c"
      },
      "outputs": [
        {
          "output_type": "stream",
          "name": "stdout",
          "text": [
            "Teenager\n"
          ]
        }
      ],
      "source": [
        "age = 16\n",
        "if age < 13:\n",
        "  print(\"Child\")\n",
        "elif (age >= 13) and (age < 20):\n",
        "  print(\"Teenager\")\n",
        "else:\n",
        "  print(\"Adult\")"
      ]
    },
    {
      "cell_type": "markdown",
      "source": [
        "#### <font color=\"green\"> ***Exercise*** </font>\n",
        "\n",
        "A leap year is a year that is exactly divisible by 4 except for century years (years ending with 00 and are divisible by 100). The century year is a leap year only if it is perfectly divisible by 400. Using if-statements, write code to determine if a given year is a leap year. Your code should print \"Leap year\" or \"Not a leap year\" depending on the input. Hint: Use the modulo operator (%)"
      ],
      "metadata": {
        "id": "2A-QUs1nvKon"
      }
    },
    {
      "cell_type": "code",
      "source": [
        "# Hint\n",
        "\n",
        "# if ((year is divisible by 4) and (year is not divisible by 100)) or (year is divisible by 400)"
      ],
      "metadata": {
        "id": "uNKzfj1X19dc"
      },
      "execution_count": null,
      "outputs": []
    },
    {
      "cell_type": "code",
      "source": [
        "# try different years\n",
        "year = 2000\n",
        "if ((year % 4 == 0) and (year % 100 != 0)) or (year % 400 == 0):\n",
        "  print(year, \"is a leap year\")\n",
        "else:\n",
        "  print(year, \"is not a leap year\")\n",
        "\n",
        "# your code here ..."
      ],
      "metadata": {
        "id": "J6Hfq49pv5xs",
        "colab": {
          "base_uri": "https://localhost:8080/"
        },
        "outputId": "6d50d66e-31a1-43bb-8fb2-e5638048dafc"
      },
      "execution_count": 17,
      "outputs": [
        {
          "output_type": "stream",
          "name": "stdout",
          "text": [
            "2000 is a leap year\n"
          ]
        }
      ]
    },
    {
      "cell_type": "markdown",
      "metadata": {
        "id": "w_Iy7xRS397b"
      },
      "source": [
        "### Looping\n",
        "Now we know how to conditionally execute code. What if we wanted to execute a piece of code over and over again? "
      ]
    },
    {
      "cell_type": "code",
      "execution_count": null,
      "metadata": {
        "id": "wbxn9pVY4nxY",
        "colab": {
          "base_uri": "https://localhost:8080/"
        },
        "outputId": "28cef354-861f-4931-d74c-c345aea18041"
      },
      "outputs": [
        {
          "output_type": "stream",
          "name": "stdout",
          "text": [
            "0 : Hi, Mom!\n",
            "1 : Hi, Mom!\n",
            "2 : Hi, Mom!\n",
            "3 : Hi, Mom!\n",
            "4 : Hi, Mom!\n"
          ]
        }
      ],
      "source": [
        "for number in range(5): # number is 0 to 4 (a total of 5 times)\n",
        "  print(number, \": Hi, Mom!\")"
      ]
    },
    {
      "cell_type": "code",
      "execution_count": null,
      "metadata": {
        "id": "WV-QGS843i3F",
        "colab": {
          "base_uri": "https://localhost:8080/"
        },
        "outputId": "5f441121-55f5-4881-8e67-c2393ef8f5b6"
      },
      "outputs": [
        {
          "output_type": "stream",
          "name": "stdout",
          "text": [
            "1\n",
            "2\n",
            "3\n",
            "4\n",
            "5\n",
            "6\n",
            "7\n",
            "8\n",
            "9\n",
            "Blastoff?\n"
          ]
        }
      ],
      "source": [
        "for i in range(1,11): # i will be 1 to 10\n",
        "  if i == 10:\n",
        "    print(\"Blastoff?\")\n",
        "  else:\n",
        "    print(i)"
      ]
    },
    {
      "cell_type": "code",
      "source": [
        "for i in range(1,11,2): # 1 to 10, increment by 2\n",
        "  print(i)"
      ],
      "metadata": {
        "colab": {
          "base_uri": "https://localhost:8080/"
        },
        "id": "U7Goc5ckF7Jg",
        "outputId": "cbbfcdf6-f4f0-4567-8238-f89971b5ea35"
      },
      "execution_count": null,
      "outputs": [
        {
          "output_type": "stream",
          "name": "stdout",
          "text": [
            "1\n",
            "3\n",
            "5\n",
            "7\n",
            "9\n"
          ]
        }
      ]
    },
    {
      "cell_type": "markdown",
      "metadata": {
        "id": "SNcMG4XShitK"
      },
      "source": [
        "#### <font color=\"green\"> ***Exercise***  </font>\n",
        "\n",
        "The range function also accepts a third argument, `step`, that specifies the difference between consecutive values. By default this value is 1. "
      ]
    },
    {
      "cell_type": "code",
      "execution_count": null,
      "metadata": {
        "id": "CyWt0J9ghitK"
      },
      "outputs": [],
      "source": [
        "for i in range(1,11,2): # add 2 each time instead of 1\n",
        "  if i == 10:\n",
        "    print(\"Blastoff?\")\n",
        "  else:\n",
        "    print(i)"
      ]
    },
    {
      "cell_type": "markdown",
      "metadata": {
        "id": "OnWGMEBzhitL"
      },
      "source": [
        "Edit the above example so that it counts down instead of counting up. Hint: the step parameter can be negative"
      ]
    },
    {
      "cell_type": "code",
      "execution_count": null,
      "metadata": {
        "id": "7_NQi36AhitM"
      },
      "outputs": [],
      "source": [
        "# your code here ..."
      ]
    },
    {
      "cell_type": "code",
      "source": [
        "# loop through a list\n",
        "z = [1, 5, \"mystring\", True]\n",
        "for x in z:\n",
        "  print(x)"
      ],
      "metadata": {
        "colab": {
          "base_uri": "https://localhost:8080/"
        },
        "id": "AMLmHSu4G5RP",
        "outputId": "8f182507-cd85-498b-92fe-f7a0e836c34f"
      },
      "execution_count": null,
      "outputs": [
        {
          "output_type": "stream",
          "name": "stdout",
          "text": [
            "1\n",
            "5\n",
            "mystring\n",
            "True\n"
          ]
        }
      ]
    },
    {
      "cell_type": "code",
      "source": [
        "# loop through chars of a string\n",
        "my_string = \"a given string\"\n",
        "for character in my_string:\n",
        "  print(character)"
      ],
      "metadata": {
        "colab": {
          "base_uri": "https://localhost:8080/"
        },
        "id": "4gCzJW6vHGen",
        "outputId": "ea02febf-641f-4d46-deb6-0b464b160af1"
      },
      "execution_count": null,
      "outputs": [
        {
          "output_type": "stream",
          "name": "stdout",
          "text": [
            "a\n",
            " \n",
            "g\n",
            "i\n",
            "v\n",
            "e\n",
            "n\n",
            " \n",
            "s\n",
            "t\n",
            "r\n",
            "i\n",
            "n\n",
            "g\n"
          ]
        }
      ]
    },
    {
      "cell_type": "code",
      "source": [
        "# loop through a dictionary\n",
        "z = {0: \"a\", 1: \"b\", 2: \"c\"}\n",
        "print(z.items())\n",
        "for (key, val) in z.items(): # use tuple to access key:value pairs\n",
        "  print(key, \"->\", val)"
      ],
      "metadata": {
        "colab": {
          "base_uri": "https://localhost:8080/"
        },
        "id": "SxPA3d5JHMrg",
        "outputId": "2bd03762-f9ae-4ac9-9755-9c33d2484009"
      },
      "execution_count": null,
      "outputs": [
        {
          "output_type": "stream",
          "name": "stdout",
          "text": [
            "dict_items([(0, 'a'), (1, 'b'), (2, 'c')])\n",
            "0 -> a\n",
            "1 -> b\n",
            "2 -> c\n"
          ]
        }
      ]
    },
    {
      "cell_type": "code",
      "execution_count": null,
      "metadata": {
        "id": "uJ0mAqz5xsVf",
        "colab": {
          "base_uri": "https://localhost:8080/"
        },
        "outputId": "97075642-966b-47a8-a6b7-70a3cf3d2a86"
      },
      "outputs": [
        {
          "output_type": "stream",
          "name": "stdout",
          "text": [
            "Student 1 got 94\n",
            "Student 2 got 88\n",
            "Student 3 got 85\n",
            "Student 4 got 97\n",
            "Student 5 got 77\n",
            "Student 6 got 92\n",
            "Student 7 got 89\n",
            "Student 8 got 78\n",
            "Student 9 got 85\n"
          ]
        }
      ],
      "source": [
        "# use enumerate to access both the index and the element\n",
        "student_grades = [ 94, 88, 85, 97, 77, 92, 89, 78, 85 ]\n",
        "for index, grade in enumerate(student_grades):\n",
        "    print(\"Student\", index + 1, \"got\", grade) # index + 1 because indexes start at 0 in Python\n"
      ]
    },
    {
      "cell_type": "code",
      "source": [
        "# list comprehension (concise syntax to loop through a list)\n",
        "a = [1, 2, 5, 14, 42, 132]\n",
        "print(a)\n",
        "b = [x ** 2 for x in a] # operation for each element (x) in a list\n",
        "print(b)\n",
        "c = [x **2 for x in a if x %2 != 0] # square only if odd\n",
        "print(c) "
      ],
      "metadata": {
        "colab": {
          "base_uri": "https://localhost:8080/"
        },
        "id": "TUkBQai4KHAi",
        "outputId": "a2ce93f2-6010-4158-9827-c1f50ba68ad6"
      },
      "execution_count": null,
      "outputs": [
        {
          "output_type": "stream",
          "name": "stdout",
          "text": [
            "[1, 2, 5, 14, 42, 132]\n",
            "[1, 4, 25, 196, 1764, 17424]\n",
            "[1, 25]\n"
          ]
        }
      ]
    },
    {
      "cell_type": "markdown",
      "source": [
        "### <font color=\"green\"> ***Exercise: Intermezzo 3.3*** </font>\n",
        "\n",
        "Determine how many times \"hello\" will be printed in the following small programs. Answer before run the code\n"
      ],
      "metadata": {
        "id": "zGaZaIOSLAsA"
      }
    },
    {
      "cell_type": "code",
      "source": [
        "# Q1\n",
        "'''\n",
        "for i in range(3,17):\n",
        "  print(\"hello\")"
      ],
      "metadata": {
        "id": "oAqxToKtMFNW"
      },
      "execution_count": null,
      "outputs": []
    },
    {
      "cell_type": "code",
      "source": [
        "# Q2\n",
        "'''\n",
        "fpr j in range(12):\n",
        "  if j % 3 == 0:\n",
        "    print(\"hello\")"
      ],
      "metadata": {
        "id": "IzwPf8XlMSnh"
      },
      "execution_count": null,
      "outputs": []
    },
    {
      "cell_type": "code",
      "source": [
        "# Q3\n",
        "'''\n",
        "for j in range(15):\n",
        "  if j % 5 == 3:\n",
        "    print(\"hello\")\n",
        "  elif j % 4 == 3:\n",
        "    print(\"hello\")"
      ],
      "metadata": {
        "id": "zoHngbDOMeT5"
      },
      "execution_count": null,
      "outputs": []
    },
    {
      "cell_type": "code",
      "source": [
        "# Q4\n",
        "'''\n",
        "z = 0\n",
        "while z != 15:\n",
        "  print(\"hello\")\n",
        "  z = z + 3"
      ],
      "metadata": {
        "id": "emyB9-VPMl3L"
      },
      "execution_count": null,
      "outputs": []
    },
    {
      "cell_type": "code",
      "source": [
        "# Q5\n",
        "'''\n",
        "z = 12\n",
        "while z < 100:\n",
        "  if z == 31:\n",
        "    for k in range(7):\n",
        "      print(\"hello\")\n",
        "  elif z == 18:\n",
        "    print(\"hello\")\n",
        "  z = z + 1\n"
      ],
      "metadata": {
        "id": "sZsFKSRaMzzv"
      },
      "execution_count": null,
      "outputs": []
    },
    {
      "cell_type": "code",
      "source": [
        "# Q6\n",
        "'''\n",
        "for i in range(10):\n",
        "  if i > 5:\n",
        "    break\n",
        "  print(\"hello\")"
      ],
      "metadata": {
        "id": "nQVFQ9xvNOOZ"
      },
      "execution_count": null,
      "outputs": []
    },
    {
      "cell_type": "code",
      "source": [
        "# Q7\n",
        "# print if even\n",
        "z = 0\n",
        "while z < 25:\n",
        "  z=z+1\n",
        "  if z % 2 == 1:\n",
        "    continue # skip, don't print\n",
        "  print(z, \"hello\")"
      ],
      "metadata": {
        "id": "T5aakghdNVX5",
        "colab": {
          "base_uri": "https://localhost:8080/"
        },
        "outputId": "4469e381-5ece-433e-8442-1962974acbf7"
      },
      "execution_count": 18,
      "outputs": [
        {
          "output_type": "stream",
          "name": "stdout",
          "text": [
            "2 hello\n",
            "4 hello\n",
            "6 hello\n",
            "8 hello\n",
            "10 hello\n",
            "12 hello\n",
            "14 hello\n",
            "16 hello\n",
            "18 hello\n",
            "20 hello\n",
            "22 hello\n",
            "24 hello\n"
          ]
        }
      ]
    },
    {
      "cell_type": "markdown",
      "source": [
        "## 3.7 Reading and writing files"
      ],
      "metadata": {
        "id": "8PQd4u4VRZTT"
      }
    },
    {
      "cell_type": "code",
      "source": [
        "# clone the course github to your google drive (run only once!!)\n",
        "# !git clone https://github.com/weigangq/CSB-BIOL425.git"
      ],
      "metadata": {
        "id": "o4asXP-TRgcZ",
        "colab": {
          "base_uri": "https://localhost:8080/"
        },
        "outputId": "eb7f38cd-1de6-476b-b8ee-d2873cd5b91e"
      },
      "execution_count": 23,
      "outputs": [
        {
          "output_type": "stream",
          "name": "stdout",
          "text": [
            "Cloning into 'CSB-BIOL425'...\n",
            "remote: Enumerating objects: 1066, done.\u001b[K\n",
            "remote: Counting objects: 100% (61/61), done.\u001b[K\n",
            "remote: Compressing objects: 100% (45/45), done.\u001b[K\n",
            "remote: Total 1066 (delta 29), reused 39 (delta 13), pack-reused 1005\u001b[K\n",
            "Receiving objects: 100% (1066/1066), 28.33 MiB | 22.52 MiB/s, done.\n",
            "Resolving deltas: 100% (418/418), done.\n"
          ]
        }
      ]
    },
    {
      "cell_type": "code",
      "source": [
        "# use !command to run Unix commands\n",
        "!pwd\n",
        "!ls -lrt\n",
        "!ls -lrt CSB-BIOL425/python/data/"
      ],
      "metadata": {
        "colab": {
          "base_uri": "https://localhost:8080/"
        },
        "id": "dSZswNOhYBRF",
        "outputId": "a9101594-01a5-49e9-b2fb-743c64247c9c"
      },
      "execution_count": 24,
      "outputs": [
        {
          "output_type": "stream",
          "name": "stdout",
          "text": [
            "/content\n",
            "total 8\n",
            "drwxr-xr-x  1 root root 4096 Feb 13 14:35 sample_data\n",
            "drwxr-xr-x 14 root root 4096 Feb 15 17:20 CSB-BIOL425\n",
            "total 1432\n",
            "-rw-r--r-- 1 root root     963 Feb 15 17:20 Dalziel2016_about.txt\n",
            "-rw-r--r-- 1 root root    1475 Feb 15 17:20 Singh2015_data.csv\n",
            "-rw-r--r-- 1 root root     491 Feb 15 17:20 Singh2015_about.txt\n",
            "-rw-r--r-- 1 root root 1450450 Feb 15 17:20 Dalziel2016_data.csv\n"
          ]
        }
      ]
    },
    {
      "cell_type": "code",
      "source": [
        "input_file = \"CSB-BIOL425/python/data/Singh2015_data.csv\"\n",
        "with open(input_file, \"r\") as f: # f is a file handle\n",
        "  # do some operations, like printing every line\n",
        "  lines_limit = 10\n",
        "  line_ct = 0\n",
        "  for my_line in f:\n",
        "    line_ct += 1\n",
        "    if line_ct < 10:\n",
        "      print(my_line.strip()); # strip spaces and newline"
      ],
      "metadata": {
        "colab": {
          "base_uri": "https://localhost:8080/"
        },
        "id": "SJ1pEEpPYa5f",
        "outputId": "422d3db2-b146-4836-c04d-c1cb417f9667"
      },
      "execution_count": 25,
      "outputs": [
        {
          "output_type": "stream",
          "name": "stdout",
          "text": [
            "Line,InfectionStatus,RecombinantFraction\n",
            "21,I,0.1826923077\n",
            "21,I,0.1850393701\n",
            "21,I,0.1856540084\n",
            "21,I,0.1866666667\n",
            "21,I,0.1904761905\n",
            "21,I,0.1958762887\n",
            "21,I,0.2180094787\n",
            "21,I,0.2534246575\n"
          ]
        }
      ]
    },
    {
      "cell_type": "code",
      "source": [
        "# change working directory\n",
        "%cd CSB-BIOL425/python/sandbox/ "
      ],
      "metadata": {
        "id": "cS5RzPx8a_RL",
        "colab": {
          "base_uri": "https://localhost:8080/"
        },
        "outputId": "511d2753-c36f-4373-c737-bf2dfdcaac13"
      },
      "execution_count": 26,
      "outputs": [
        {
          "output_type": "stream",
          "name": "stdout",
          "text": [
            "/content/CSB-BIOL425/python/sandbox\n"
          ]
        }
      ]
    },
    {
      "cell_type": "code",
      "source": [
        "# run pwd to confirm the working directory & show files\n",
        "!pwd\n",
        "!ls -lrt ../data/"
      ],
      "metadata": {
        "colab": {
          "base_uri": "https://localhost:8080/"
        },
        "id": "5_ehxCPLbtF0",
        "outputId": "a85316ed-ffbf-433f-fc50-4d6d5754dd93"
      },
      "execution_count": 27,
      "outputs": [
        {
          "output_type": "stream",
          "name": "stdout",
          "text": [
            "/content/CSB-BIOL425/python/sandbox\n",
            "total 1432\n",
            "-rw-r--r-- 1 root root     963 Feb 15 17:20 Dalziel2016_about.txt\n",
            "-rw-r--r-- 1 root root    1475 Feb 15 17:20 Singh2015_data.csv\n",
            "-rw-r--r-- 1 root root     491 Feb 15 17:20 Singh2015_about.txt\n",
            "-rw-r--r-- 1 root root 1450450 Feb 15 17:20 Dalziel2016_data.csv\n"
          ]
        }
      ]
    },
    {
      "cell_type": "code",
      "source": [
        "# read tabular files\n",
        "input_file = \"../data/Dalziel2016_data.csv\"\n",
        "with open(input_file) as f:\n",
        "  # create iterator\n",
        "  for i, line in enumerate(f):\n",
        "    # print each line; delete leading/trailing spaces\n",
        "    print(line.strip())\n",
        "    if i > 2: # stop at i = 3 (print top lines)\n",
        "      break"
      ],
      "metadata": {
        "colab": {
          "base_uri": "https://localhost:8080/"
        },
        "id": "f2FbEa6nakQX",
        "outputId": "8cb9b165-1231-423c-b53b-97f6dc2bd22d"
      },
      "execution_count": 28,
      "outputs": [
        {
          "output_type": "stream",
          "name": "stdout",
          "text": [
            "biweek,year,loc,cases,pop\n",
            "1,1906,BALTIMORE,NA,526822.1365\n",
            "2,1906,BALTIMORE,NA,526995.246\n",
            "3,1906,BALTIMORE,NA,527170.1981\n"
          ]
        }
      ]
    },
    {
      "cell_type": "code",
      "source": [
        "# use the csv module\n",
        "import csv\n",
        "input_file = \"../data/Dalziel2016_data.csv\"\n",
        "with open(input_file) as f:\n",
        "  reader = csv.DictReader(f) # read each line as an anynonymous dictionary, column headings as keys\n",
        "  for i, row in enumerate(reader):\n",
        "    print(i, row)\n",
        "    if i > 2: \n",
        "      break"
      ],
      "metadata": {
        "colab": {
          "base_uri": "https://localhost:8080/"
        },
        "id": "ZljvZr81cS_S",
        "outputId": "db0bb1d0-d10b-49a5-cf8d-91b5d7f3e314"
      },
      "execution_count": 30,
      "outputs": [
        {
          "output_type": "stream",
          "name": "stdout",
          "text": [
            "0 {'biweek': '1', 'year': '1906', 'loc': 'BALTIMORE', 'cases': 'NA', 'pop': '526822.1365'}\n",
            "1 {'biweek': '2', 'year': '1906', 'loc': 'BALTIMORE', 'cases': 'NA', 'pop': '526995.246'}\n",
            "2 {'biweek': '3', 'year': '1906', 'loc': 'BALTIMORE', 'cases': 'NA', 'pop': '527170.1981'}\n",
            "3 {'biweek': '4', 'year': '1906', 'loc': 'BALTIMORE', 'cases': 'NA', 'pop': '527347.0136'}\n"
          ]
        }
      ]
    },
    {
      "cell_type": "code",
      "source": [
        "out_file = \"Dalziel2016_Washington.csv\" #  create a file to write into\n",
        "with open(input_file) as fr:\n",
        "  reader = csv.DictReader(fr) #  create a reader, read each line as a dictionary\n",
        "  header = reader.fieldnames # extract header\n",
        "  with open(out_file, \"w\") as fw: #  open a file handler to write\n",
        "    writer = csv.DictWriter(fw, fieldnames = header, delimiter = \",\") # create a writer, write each dictionary into a row\n",
        "    for row in reader:\n",
        "      if row[\"loc\"] == \"WASHINGTON\":\n",
        "        writer.writerow(row)\n"
      ],
      "metadata": {
        "id": "_i_qBhZHdhpM"
      },
      "execution_count": 31,
      "outputs": []
    },
    {
      "cell_type": "code",
      "source": [
        "!ls -lrt\n",
        "!head Dalziel2016_Washington.csv\n",
        "!wc Dalziel2016_Washington.csv"
      ],
      "metadata": {
        "colab": {
          "base_uri": "https://localhost:8080/"
        },
        "id": "141mwqPjexFU",
        "outputId": "e77b2ba4-f79a-4cc9-c921-b3b023a010e6"
      },
      "execution_count": 32,
      "outputs": [
        {
          "output_type": "stream",
          "name": "stdout",
          "text": [
            "total 40\n",
            "-rw-r--r-- 1 root root 38450 Feb 15 17:37 Dalziel2016_Washington.csv\n",
            "1,1906,WASHINGTON,NA,302312.9457\n",
            "2,1906,WASHINGTON,NA,302519.0169\n",
            "3,1906,WASHINGTON,NA,302726.1932\n",
            "4,1906,WASHINGTON,NA,302934.4823\n",
            "5,1906,WASHINGTON,NA,303143.8918\n",
            "6,1906,WASHINGTON,NA,303354.4296\n",
            "7,1906,WASHINGTON,NA,303566.1032\n",
            "8,1906,WASHINGTON,NA,303778.9205\n",
            "9,1906,WASHINGTON,NA,303992.8891\n",
            "10,1906,WASHINGTON,NA,304208.0168\n",
            " 1118  1118 38450 Dalziel2016_Washington.csv\n"
          ]
        }
      ]
    },
    {
      "cell_type": "markdown",
      "source": [
        "### <font color=\"green\"> ***Exercise: Intermezzo 3.4*** </font>\n",
        "\n",
        "Write code that prints the loc and pop for all the rows in the file Dalziel\n",
        "2016_data.csv.\n"
      ],
      "metadata": {
        "id": "pvRRiTkbfblz"
      }
    }
  ],
  "metadata": {
    "colab": {
      "collapsed_sections": [
        "3vbtywush6Qt"
      ],
      "provenance": [],
      "include_colab_link": true
    },
    "kernelspec": {
      "display_name": "Python 3",
      "name": "python3"
    },
    "language_info": {
      "codemirror_mode": {
        "name": "ipython",
        "version": 3
      },
      "file_extension": ".py",
      "mimetype": "text/x-python",
      "name": "python",
      "nbconvert_exporter": "python",
      "pygments_lexer": "ipython3",
      "version": "3.9.7"
    }
  },
  "nbformat": 4,
  "nbformat_minor": 0
}