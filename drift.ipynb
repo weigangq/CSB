{
  "nbformat": 4,
  "nbformat_minor": 0,
  "metadata": {
    "colab": {
      "provenance": [],
      "authorship_tag": "ABX9TyOgs8Z3YVMkJCTc8s0hwqCi",
      "include_colab_link": true
    },
    "kernelspec": {
      "name": "python3",
      "display_name": "Python 3"
    },
    "language_info": {
      "name": "python"
    }
  },
  "cells": [
    {
      "cell_type": "markdown",
      "metadata": {
        "id": "view-in-github",
        "colab_type": "text"
      },
      "source": [
        "<a href=\"https://colab.research.google.com/github/weigangq/CSB-BIOL425/blob/master/drift.ipynb\" target=\"_parent\"><img src=\"https://colab.research.google.com/assets/colab-badge.svg\" alt=\"Open In Colab\"/></a>"
      ]
    },
    {
      "cell_type": "code",
      "source": [
        "import numpy as np\n",
        "def build_population(N, p):\n",
        "  \"\"\"The population consists of N diploid individuals.\n",
        "  \n",
        "      Each individual has two chromosomes, containing\n",
        "      allele \"A\" or \"a\", with probability p or 1-p,\n",
        "      respectively.\n",
        "\n",
        "      The population is a list of tuples.\n",
        "  \"\"\"\n",
        "  population = []\n",
        "  rng = np.random.default_rng() # instantiate a random number generator\n",
        "  for i in range(N):\n",
        "    # set allele 1 as A or a (with prob of p)\n",
        "    allele1 = \"A\"\n",
        "    if rng.random() > p:\n",
        "      allele1 = \"a\"\n",
        "\n",
        "    # set allele 2 as A or a (with prob of p)\n",
        "    allele2 = \"A\"\n",
        "    if rng.random() > p:\n",
        "      allele2 = \"a\"\n",
        "    # a dipolid individual as a tuple\n",
        "    population.append((allele1, allele2))\n",
        "  return population"
      ],
      "metadata": {
        "id": "AtaKeAUPXW-S"
      },
      "execution_count": null,
      "outputs": []
    },
    {
      "cell_type": "code",
      "source": [
        "test_pop = build_population(10,0.5)"
      ],
      "metadata": {
        "id": "63J5Tul86Se_"
      },
      "execution_count": null,
      "outputs": []
    },
    {
      "cell_type": "code",
      "source": [
        "def compute_frequencies(population):\n",
        "  \"\"\" Count the genotypes.\n",
        "      Returns a dictionary of genotypic frequencies.\n",
        "  \"\"\"\n",
        "  # count the tuples\n",
        "  AA = population.count((\"A\", \"A\"))\n",
        "  Aa = population.count((\"A\", \"a\"))\n",
        "  aA = population.count((\"a\", \"A\"))\n",
        "  aa = population.count((\"a\", \"a\"))\n",
        "  # return counts as a dict\n",
        "  return({\"AA\": AA,\n",
        "          \"aa\": aa,\n",
        "          \"Aa\": Aa,\n",
        "          \"aA\": aA})"
      ],
      "metadata": {
        "id": "_a7RhCF4bsYI"
      },
      "execution_count": null,
      "outputs": []
    },
    {
      "cell_type": "code",
      "source": [
        "def reproduce_population(population):\n",
        "  \"\"\" Create new generation through reproduction\n",
        "      For each of N new offspring,\n",
        "      - choose the parents at random;\n",
        "      - the offspring receives a chromosome from\n",
        "        each of the parents.\n",
        "  \"\"\"\n",
        "  new_generation = []\n",
        "  N = len(population)\n",
        "  rng = np.random.default_rng() # initialize a random number generator\n",
        "  for i in range(N):\n",
        "    # random integer between 0 and N-1\n",
        "    dad = rng.integers(N) # pick an individual as dad\n",
        "    mom = rng.integers(N) # pick an individual as mom (could be the same as dad by chance!!)\n",
        "    # which chromosome comes from mom\n",
        "    chr_mom = rng.choice([0,1]) # return either 0 or 1\n",
        "    offspring = (population[mom][chr_mom], population[dad][1 - chr_mom])\n",
        "    new_generation.append(offspring)\n",
        "  return(new_generation)"
      ],
      "metadata": {
        "id": "AlmX4M98edb1"
      },
      "execution_count": null,
      "outputs": []
    },
    {
      "cell_type": "code",
      "source": [
        "reproduce_population(test_pop)"
      ],
      "metadata": {
        "colab": {
          "base_uri": "https://localhost:8080/"
        },
        "id": "1GVLTtON7Y2m",
        "outputId": "b5d79d7e-5af4-45fd-da8a-0a1308b6909d"
      },
      "execution_count": null,
      "outputs": [
        {
          "output_type": "execute_result",
          "data": {
            "text/plain": [
              "[('a', 'A'),\n",
              " ('A', 'A'),\n",
              " ('A', 'a'),\n",
              " ('A', 'A'),\n",
              " ('A', 'A'),\n",
              " ('a', 'A'),\n",
              " ('A', 'A'),\n",
              " ('A', 'A'),\n",
              " ('A', 'a'),\n",
              " ('a', 'A')]"
            ]
          },
          "metadata": {},
          "execution_count": 16
        }
      ]
    },
    {
      "cell_type": "code",
      "source": [
        "def simulate_drift(N, p):\n",
        "  # initialize the population\n",
        "  my_pop = build_population(N, p)\n",
        "  fixation = False # a logical variable to mark termination point (when true)\n",
        "  num_generations = 0 # initialize a generation counter\n",
        "  while fixation == False:\n",
        "    # compute genotype counts\n",
        "    genotype_counts = compute_frequencies(my_pop)\n",
        "    # if one allele went to fixation, end\n",
        "    if genotype_counts[\"AA\"] == N or genotype_counts[\"aa\"] == N:\n",
        "      print(\"An allele reached fixation at generation\", num_generations, end = \"\\t\")\n",
        "      print(\"The genotype counts are\", end = \"\\t\")\n",
        "      print(genotype_counts)\n",
        "      fixation == True\n",
        "      break\n",
        "    # if not, reproduce\n",
        "    my_pop = reproduce_population(my_pop)\n",
        "    num_generations = num_generations + 1"
      ],
      "metadata": {
        "id": "VntgL7T1QFSW"
      },
      "execution_count": null,
      "outputs": []
    },
    {
      "cell_type": "code",
      "source": [
        "if __name__ == \"__main__\":\n",
        "  # read the arguments on the command line\n",
        "  # and convert to the right type\n",
        "  # (they are strings by default)\n",
        "  N = int(sys.argv[1])\n",
        "  p = float(sys.argv[2])\n",
        "  # call the simulation\n",
        "  simulate_drift(N, p)"
      ],
      "metadata": {
        "id": "6at-qIsqOzQz"
      },
      "execution_count": null,
      "outputs": []
    }
  ]
}